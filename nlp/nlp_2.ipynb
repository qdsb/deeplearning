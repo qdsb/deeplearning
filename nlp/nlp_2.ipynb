{
  "cells": [
    {
      "cell_type": "markdown",
      "source": [
        "## Packages"
      ],
      "metadata": {
        "id": "6ETM35nRkzm-"
      }
    },
    {
      "cell_type": "code",
      "source": [
        "import random\n",
        "import re\n",
        "import nltk\n",
        "\n",
        "import pandas as pd\n",
        "import numpy as np\n",
        "from scipy import stats\n",
        "\n",
        "from sklearn.model_selection import train_test_split\n",
        "from sklearn.preprocessing import OneHotEncoder\n",
        "\n",
        "from sklearn.pipeline import Pipeline\n",
        "from sklearn.feature_extraction.text import TfidfVectorizer\n",
        "from sklearn.naive_bayes import MultinomialNB\n",
        "from sklearn.metrics import classification_report\n",
        "\n",
        "import tensorflow as tf\n",
        "from tensorflow.keras import layers\n",
        "from tensorflow.keras.preprocessing.text import Tokenizer\n",
        "from keras.preprocessing.sequence import pad_sequences\n",
        "\n",
        "import matplotlib.pyplot as plt\n",
        "import seaborn as sns\n",
        "\n",
        "from tqdm import tqdm\n",
        "tqdm.pandas()"
      ],
      "metadata": {
        "id": "YSaqNo2DoCO6"
      },
      "execution_count": 1,
      "outputs": []
    },
    {
      "cell_type": "code",
      "source": [
        "nltk.download('stopwords')\n",
        "nltk.download('punkt')"
      ],
      "metadata": {
        "colab": {
          "base_uri": "https://localhost:8080/"
        },
        "id": "v-fIeM8e06nf",
        "outputId": "28b3d68c-16b8-4ede-d98d-34df244c6721"
      },
      "execution_count": 2,
      "outputs": [
        {
          "output_type": "stream",
          "name": "stderr",
          "text": [
            "[nltk_data] Downloading package stopwords to /root/nltk_data...\n",
            "[nltk_data]   Unzipping corpora/stopwords.zip.\n",
            "[nltk_data] Downloading package punkt to /root/nltk_data...\n",
            "[nltk_data]   Unzipping tokenizers/punkt.zip.\n"
          ]
        },
        {
          "output_type": "execute_result",
          "data": {
            "text/plain": [
              "True"
            ]
          },
          "metadata": {},
          "execution_count": 2
        }
      ]
    },
    {
      "cell_type": "markdown",
      "source": [
        "## Dataset"
      ],
      "metadata": {
        "id": "l6CYsudVk15t"
      }
    },
    {
      "cell_type": "code",
      "source": [
        "!gdown 1-F7f9oSjFx0Si44DvdkzFhjjwfro_Y1p"
      ],
      "metadata": {
        "id": "fXRpj7Tzk6wK",
        "colab": {
          "base_uri": "https://localhost:8080/"
        },
        "outputId": "3025ca4a-8469-47d1-e28f-2345cc720103"
      },
      "execution_count": 3,
      "outputs": [
        {
          "output_type": "stream",
          "name": "stdout",
          "text": [
            "Downloading...\n",
            "From: https://drive.google.com/uc?id=1-F7f9oSjFx0Si44DvdkzFhjjwfro_Y1p\n",
            "To: /content/train_data.csv\n",
            "100% 635M/635M [00:06<00:00, 91.3MB/s]\n"
          ]
        }
      ]
    },
    {
      "cell_type": "code",
      "source": [
        "df = pd.read_csv('train_data.csv')"
      ],
      "metadata": {
        "colab": {
          "base_uri": "https://localhost:8080/"
        },
        "id": "sRzoFcD6lHu0",
        "outputId": "8a7ca010-446b-44b1-e393-13aa99a1d0cf"
      },
      "execution_count": 4,
      "outputs": [
        {
          "output_type": "stream",
          "name": "stderr",
          "text": [
            "<ipython-input-4-182e48c08379>:1: DtypeWarning: Columns (1) have mixed types. Specify dtype option on import or set low_memory=False.\n",
            "  df = pd.read_csv('train_data.csv')\n"
          ]
        }
      ]
    },
    {
      "cell_type": "code",
      "source": [
        "df = df[['reviewText', 'overall']]\n",
        "df.head()"
      ],
      "metadata": {
        "colab": {
          "base_uri": "https://localhost:8080/",
          "height": 206
        },
        "id": "FbaZU1gAlPf8",
        "outputId": "84866f5c-8c29-41ab-8903-01011a0884fd"
      },
      "execution_count": 5,
      "outputs": [
        {
          "output_type": "execute_result",
          "data": {
            "text/plain": [
              "                                          reviewText  overall\n",
              "0  I have an older URC-WR7 remote and thought thi...        2\n",
              "1  First time I've EVER had a remote that needed ...        5\n",
              "2  Got them and only 2 of them worked. company ca...        4\n",
              "3  I got tired of the remote being on the wrong s...        5\n",
              "4  After purchasing cheap cords from another webs...        5"
            ],
            "text/html": [
              "\n",
              "  <div id=\"df-9b513e09-db93-4141-bf5c-00c75dd8a174\" class=\"colab-df-container\">\n",
              "    <div>\n",
              "<style scoped>\n",
              "    .dataframe tbody tr th:only-of-type {\n",
              "        vertical-align: middle;\n",
              "    }\n",
              "\n",
              "    .dataframe tbody tr th {\n",
              "        vertical-align: top;\n",
              "    }\n",
              "\n",
              "    .dataframe thead th {\n",
              "        text-align: right;\n",
              "    }\n",
              "</style>\n",
              "<table border=\"1\" class=\"dataframe\">\n",
              "  <thead>\n",
              "    <tr style=\"text-align: right;\">\n",
              "      <th></th>\n",
              "      <th>reviewText</th>\n",
              "      <th>overall</th>\n",
              "    </tr>\n",
              "  </thead>\n",
              "  <tbody>\n",
              "    <tr>\n",
              "      <th>0</th>\n",
              "      <td>I have an older URC-WR7 remote and thought thi...</td>\n",
              "      <td>2</td>\n",
              "    </tr>\n",
              "    <tr>\n",
              "      <th>1</th>\n",
              "      <td>First time I've EVER had a remote that needed ...</td>\n",
              "      <td>5</td>\n",
              "    </tr>\n",
              "    <tr>\n",
              "      <th>2</th>\n",
              "      <td>Got them and only 2 of them worked. company ca...</td>\n",
              "      <td>4</td>\n",
              "    </tr>\n",
              "    <tr>\n",
              "      <th>3</th>\n",
              "      <td>I got tired of the remote being on the wrong s...</td>\n",
              "      <td>5</td>\n",
              "    </tr>\n",
              "    <tr>\n",
              "      <th>4</th>\n",
              "      <td>After purchasing cheap cords from another webs...</td>\n",
              "      <td>5</td>\n",
              "    </tr>\n",
              "  </tbody>\n",
              "</table>\n",
              "</div>\n",
              "    <div class=\"colab-df-buttons\">\n",
              "\n",
              "  <div class=\"colab-df-container\">\n",
              "    <button class=\"colab-df-convert\" onclick=\"convertToInteractive('df-9b513e09-db93-4141-bf5c-00c75dd8a174')\"\n",
              "            title=\"Convert this dataframe to an interactive table.\"\n",
              "            style=\"display:none;\">\n",
              "\n",
              "  <svg xmlns=\"http://www.w3.org/2000/svg\" height=\"24px\" viewBox=\"0 -960 960 960\">\n",
              "    <path d=\"M120-120v-720h720v720H120Zm60-500h600v-160H180v160Zm220 220h160v-160H400v160Zm0 220h160v-160H400v160ZM180-400h160v-160H180v160Zm440 0h160v-160H620v160ZM180-180h160v-160H180v160Zm440 0h160v-160H620v160Z\"/>\n",
              "  </svg>\n",
              "    </button>\n",
              "\n",
              "  <style>\n",
              "    .colab-df-container {\n",
              "      display:flex;\n",
              "      gap: 12px;\n",
              "    }\n",
              "\n",
              "    .colab-df-convert {\n",
              "      background-color: #E8F0FE;\n",
              "      border: none;\n",
              "      border-radius: 50%;\n",
              "      cursor: pointer;\n",
              "      display: none;\n",
              "      fill: #1967D2;\n",
              "      height: 32px;\n",
              "      padding: 0 0 0 0;\n",
              "      width: 32px;\n",
              "    }\n",
              "\n",
              "    .colab-df-convert:hover {\n",
              "      background-color: #E2EBFA;\n",
              "      box-shadow: 0px 1px 2px rgba(60, 64, 67, 0.3), 0px 1px 3px 1px rgba(60, 64, 67, 0.15);\n",
              "      fill: #174EA6;\n",
              "    }\n",
              "\n",
              "    .colab-df-buttons div {\n",
              "      margin-bottom: 4px;\n",
              "    }\n",
              "\n",
              "    [theme=dark] .colab-df-convert {\n",
              "      background-color: #3B4455;\n",
              "      fill: #D2E3FC;\n",
              "    }\n",
              "\n",
              "    [theme=dark] .colab-df-convert:hover {\n",
              "      background-color: #434B5C;\n",
              "      box-shadow: 0px 1px 3px 1px rgba(0, 0, 0, 0.15);\n",
              "      filter: drop-shadow(0px 1px 2px rgba(0, 0, 0, 0.3));\n",
              "      fill: #FFFFFF;\n",
              "    }\n",
              "  </style>\n",
              "\n",
              "    <script>\n",
              "      const buttonEl =\n",
              "        document.querySelector('#df-9b513e09-db93-4141-bf5c-00c75dd8a174 button.colab-df-convert');\n",
              "      buttonEl.style.display =\n",
              "        google.colab.kernel.accessAllowed ? 'block' : 'none';\n",
              "\n",
              "      async function convertToInteractive(key) {\n",
              "        const element = document.querySelector('#df-9b513e09-db93-4141-bf5c-00c75dd8a174');\n",
              "        const dataTable =\n",
              "          await google.colab.kernel.invokeFunction('convertToInteractive',\n",
              "                                                    [key], {});\n",
              "        if (!dataTable) return;\n",
              "\n",
              "        const docLinkHtml = 'Like what you see? Visit the ' +\n",
              "          '<a target=\"_blank\" href=https://colab.research.google.com/notebooks/data_table.ipynb>data table notebook</a>'\n",
              "          + ' to learn more about interactive tables.';\n",
              "        element.innerHTML = '';\n",
              "        dataTable['output_type'] = 'display_data';\n",
              "        await google.colab.output.renderOutput(dataTable, element);\n",
              "        const docLink = document.createElement('div');\n",
              "        docLink.innerHTML = docLinkHtml;\n",
              "        element.appendChild(docLink);\n",
              "      }\n",
              "    </script>\n",
              "  </div>\n",
              "\n",
              "\n",
              "<div id=\"df-09144705-8788-4d54-866f-3a27b55154e0\">\n",
              "  <button class=\"colab-df-quickchart\" onclick=\"quickchart('df-09144705-8788-4d54-866f-3a27b55154e0')\"\n",
              "            title=\"Suggest charts\"\n",
              "            style=\"display:none;\">\n",
              "\n",
              "<svg xmlns=\"http://www.w3.org/2000/svg\" height=\"24px\"viewBox=\"0 0 24 24\"\n",
              "     width=\"24px\">\n",
              "    <g>\n",
              "        <path d=\"M19 3H5c-1.1 0-2 .9-2 2v14c0 1.1.9 2 2 2h14c1.1 0 2-.9 2-2V5c0-1.1-.9-2-2-2zM9 17H7v-7h2v7zm4 0h-2V7h2v10zm4 0h-2v-4h2v4z\"/>\n",
              "    </g>\n",
              "</svg>\n",
              "  </button>\n",
              "\n",
              "<style>\n",
              "  .colab-df-quickchart {\n",
              "      --bg-color: #E8F0FE;\n",
              "      --fill-color: #1967D2;\n",
              "      --hover-bg-color: #E2EBFA;\n",
              "      --hover-fill-color: #174EA6;\n",
              "      --disabled-fill-color: #AAA;\n",
              "      --disabled-bg-color: #DDD;\n",
              "  }\n",
              "\n",
              "  [theme=dark] .colab-df-quickchart {\n",
              "      --bg-color: #3B4455;\n",
              "      --fill-color: #D2E3FC;\n",
              "      --hover-bg-color: #434B5C;\n",
              "      --hover-fill-color: #FFFFFF;\n",
              "      --disabled-bg-color: #3B4455;\n",
              "      --disabled-fill-color: #666;\n",
              "  }\n",
              "\n",
              "  .colab-df-quickchart {\n",
              "    background-color: var(--bg-color);\n",
              "    border: none;\n",
              "    border-radius: 50%;\n",
              "    cursor: pointer;\n",
              "    display: none;\n",
              "    fill: var(--fill-color);\n",
              "    height: 32px;\n",
              "    padding: 0;\n",
              "    width: 32px;\n",
              "  }\n",
              "\n",
              "  .colab-df-quickchart:hover {\n",
              "    background-color: var(--hover-bg-color);\n",
              "    box-shadow: 0 1px 2px rgba(60, 64, 67, 0.3), 0 1px 3px 1px rgba(60, 64, 67, 0.15);\n",
              "    fill: var(--button-hover-fill-color);\n",
              "  }\n",
              "\n",
              "  .colab-df-quickchart-complete:disabled,\n",
              "  .colab-df-quickchart-complete:disabled:hover {\n",
              "    background-color: var(--disabled-bg-color);\n",
              "    fill: var(--disabled-fill-color);\n",
              "    box-shadow: none;\n",
              "  }\n",
              "\n",
              "  .colab-df-spinner {\n",
              "    border: 2px solid var(--fill-color);\n",
              "    border-color: transparent;\n",
              "    border-bottom-color: var(--fill-color);\n",
              "    animation:\n",
              "      spin 1s steps(1) infinite;\n",
              "  }\n",
              "\n",
              "  @keyframes spin {\n",
              "    0% {\n",
              "      border-color: transparent;\n",
              "      border-bottom-color: var(--fill-color);\n",
              "      border-left-color: var(--fill-color);\n",
              "    }\n",
              "    20% {\n",
              "      border-color: transparent;\n",
              "      border-left-color: var(--fill-color);\n",
              "      border-top-color: var(--fill-color);\n",
              "    }\n",
              "    30% {\n",
              "      border-color: transparent;\n",
              "      border-left-color: var(--fill-color);\n",
              "      border-top-color: var(--fill-color);\n",
              "      border-right-color: var(--fill-color);\n",
              "    }\n",
              "    40% {\n",
              "      border-color: transparent;\n",
              "      border-right-color: var(--fill-color);\n",
              "      border-top-color: var(--fill-color);\n",
              "    }\n",
              "    60% {\n",
              "      border-color: transparent;\n",
              "      border-right-color: var(--fill-color);\n",
              "    }\n",
              "    80% {\n",
              "      border-color: transparent;\n",
              "      border-right-color: var(--fill-color);\n",
              "      border-bottom-color: var(--fill-color);\n",
              "    }\n",
              "    90% {\n",
              "      border-color: transparent;\n",
              "      border-bottom-color: var(--fill-color);\n",
              "    }\n",
              "  }\n",
              "</style>\n",
              "\n",
              "  <script>\n",
              "    async function quickchart(key) {\n",
              "      const quickchartButtonEl =\n",
              "        document.querySelector('#' + key + ' button');\n",
              "      quickchartButtonEl.disabled = true;  // To prevent multiple clicks.\n",
              "      quickchartButtonEl.classList.add('colab-df-spinner');\n",
              "      try {\n",
              "        const charts = await google.colab.kernel.invokeFunction(\n",
              "            'suggestCharts', [key], {});\n",
              "      } catch (error) {\n",
              "        console.error('Error during call to suggestCharts:', error);\n",
              "      }\n",
              "      quickchartButtonEl.classList.remove('colab-df-spinner');\n",
              "      quickchartButtonEl.classList.add('colab-df-quickchart-complete');\n",
              "    }\n",
              "    (() => {\n",
              "      let quickchartButtonEl =\n",
              "        document.querySelector('#df-09144705-8788-4d54-866f-3a27b55154e0 button');\n",
              "      quickchartButtonEl.style.display =\n",
              "        google.colab.kernel.accessAllowed ? 'block' : 'none';\n",
              "    })();\n",
              "  </script>\n",
              "</div>\n",
              "    </div>\n",
              "  </div>\n"
            ]
          },
          "metadata": {},
          "execution_count": 5
        }
      ]
    },
    {
      "cell_type": "code",
      "source": [
        "df.shape"
      ],
      "metadata": {
        "colab": {
          "base_uri": "https://localhost:8080/"
        },
        "id": "zm9isjXplQLj",
        "outputId": "b3d7d581-6b4e-4aac-a93e-ff19ed8401a5"
      },
      "execution_count": 6,
      "outputs": [
        {
          "output_type": "execute_result",
          "data": {
            "text/plain": [
              "(838944, 2)"
            ]
          },
          "metadata": {},
          "execution_count": 6
        }
      ]
    },
    {
      "cell_type": "code",
      "source": [
        "df['overall'].value_counts()"
      ],
      "metadata": {
        "colab": {
          "base_uri": "https://localhost:8080/"
        },
        "id": "m650anZmljw0",
        "outputId": "bd75923c-7f2d-4fc2-891b-90c22d43e841"
      },
      "execution_count": 7,
      "outputs": [
        {
          "output_type": "execute_result",
          "data": {
            "text/plain": [
              "5    461485\n",
              "4    156514\n",
              "1     82950\n",
              "3     81239\n",
              "2     56756\n",
              "Name: overall, dtype: int64"
            ]
          },
          "metadata": {},
          "execution_count": 7
        }
      ]
    },
    {
      "cell_type": "markdown",
      "source": [
        "## Preprocessing Data"
      ],
      "metadata": {
        "id": "gXNbBmylnKf7"
      }
    },
    {
      "cell_type": "markdown",
      "source": [
        "### Splitting Data"
      ],
      "metadata": {
        "id": "n9xgDhfSloZa"
      }
    },
    {
      "cell_type": "markdown",
      "source": [
        "#### Base Data"
      ],
      "metadata": {
        "id": "3RPk8n3ltsTh"
      }
    },
    {
      "cell_type": "code",
      "source": [
        "text_train, text_validation, target_train, target_validation = train_test_split(df['reviewText'], df['overall'], test_size=0.2, random_state=42)"
      ],
      "metadata": {
        "id": "lLmIk-8qmZ-L"
      },
      "execution_count": 8,
      "outputs": []
    },
    {
      "cell_type": "code",
      "source": [
        "text_train.shape, text_validation.shape"
      ],
      "metadata": {
        "colab": {
          "base_uri": "https://localhost:8080/"
        },
        "id": "oiaNsMwBm42-",
        "outputId": "9e9a638e-cad0-4ebd-a614-4ca70ed6cae9"
      },
      "execution_count": 9,
      "outputs": [
        {
          "output_type": "execute_result",
          "data": {
            "text/plain": [
              "((671155,), (167789,))"
            ]
          },
          "metadata": {},
          "execution_count": 9
        }
      ]
    },
    {
      "cell_type": "code",
      "source": [
        "target_train.value_counts()"
      ],
      "metadata": {
        "colab": {
          "base_uri": "https://localhost:8080/"
        },
        "id": "QLmTBFeMm-BE",
        "outputId": "e733d86b-1dbb-4da9-aeb7-067de59cc38e"
      },
      "execution_count": 10,
      "outputs": [
        {
          "output_type": "execute_result",
          "data": {
            "text/plain": [
              "5    369016\n",
              "4    125222\n",
              "1     66378\n",
              "3     65130\n",
              "2     45409\n",
              "Name: overall, dtype: int64"
            ]
          },
          "metadata": {},
          "execution_count": 10
        }
      ]
    },
    {
      "cell_type": "code",
      "source": [
        "target_validation.value_counts()"
      ],
      "metadata": {
        "colab": {
          "base_uri": "https://localhost:8080/"
        },
        "id": "m1j983_3nD1q",
        "outputId": "1d783bd3-a677-4fec-fcb3-8f9ebf013b42"
      },
      "execution_count": 11,
      "outputs": [
        {
          "output_type": "execute_result",
          "data": {
            "text/plain": [
              "5    92469\n",
              "4    31292\n",
              "1    16572\n",
              "3    16109\n",
              "2    11347\n",
              "Name: overall, dtype: int64"
            ]
          },
          "metadata": {},
          "execution_count": 11
        }
      ]
    },
    {
      "cell_type": "markdown",
      "source": [
        "#### Undersampled Data"
      ],
      "metadata": {
        "id": "ZBgAJm-jtuko"
      }
    },
    {
      "cell_type": "code",
      "source": [
        "np.random.seed(42)\n",
        "nMax = 55000\n",
        "udf = df.groupby('overall').progress_apply(lambda x: x.sample(n=min(nMax, len(x))))\n",
        "udf = udf.rename(columns={'overall': 'label'}).reset_index()\n",
        "udf"
      ],
      "metadata": {
        "colab": {
          "base_uri": "https://localhost:8080/",
          "height": 441
        },
        "id": "PbrOa5UvtwXY",
        "outputId": "782edeb6-1b51-4f2c-d519-e3b1039dc83a"
      },
      "execution_count": 12,
      "outputs": [
        {
          "output_type": "stream",
          "name": "stderr",
          "text": [
            "100%|██████████| 5/5 [00:00<00:00,  5.71it/s]\n"
          ]
        },
        {
          "output_type": "execute_result",
          "data": {
            "text/plain": [
              "        overall  level_1                                         reviewText  \\\n",
              "0             1   162556  This is a really slow product, and some featur...   \n",
              "1             1   260161  I have purchased 3 pairs overtime.  January 20...   \n",
              "2             1   546764  Hello, I purchase the Nighthawk AC5300 and wor...   \n",
              "3             1   228563  The 3-pack arrived Saturday and two were insta...   \n",
              "4             1   628780  The projector itself is pretty amazing, HOWEVE...   \n",
              "...         ...      ...                                                ...   \n",
              "274995        5   491321  Saw ~14c drop in temps at lower fan speeds ver...   \n",
              "274996        5   664834  DISCLAIMER: I RECIEVED THIS PRODUCT FOR A DISC...   \n",
              "274997        5   213504  Surprisingly this picked up over 60 channels h...   \n",
              "274998        5   644147  Had a Beltronics 965 for years, frustrated wit...   \n",
              "274999        5   695760  Note that this is actually TWO filters and not...   \n",
              "\n",
              "        label  \n",
              "0           1  \n",
              "1           1  \n",
              "2           1  \n",
              "3           1  \n",
              "4           1  \n",
              "...       ...  \n",
              "274995      5  \n",
              "274996      5  \n",
              "274997      5  \n",
              "274998      5  \n",
              "274999      5  \n",
              "\n",
              "[275000 rows x 4 columns]"
            ],
            "text/html": [
              "\n",
              "  <div id=\"df-1f2cf80e-9ebe-4c7a-b8d5-f8356d0f68f0\" class=\"colab-df-container\">\n",
              "    <div>\n",
              "<style scoped>\n",
              "    .dataframe tbody tr th:only-of-type {\n",
              "        vertical-align: middle;\n",
              "    }\n",
              "\n",
              "    .dataframe tbody tr th {\n",
              "        vertical-align: top;\n",
              "    }\n",
              "\n",
              "    .dataframe thead th {\n",
              "        text-align: right;\n",
              "    }\n",
              "</style>\n",
              "<table border=\"1\" class=\"dataframe\">\n",
              "  <thead>\n",
              "    <tr style=\"text-align: right;\">\n",
              "      <th></th>\n",
              "      <th>overall</th>\n",
              "      <th>level_1</th>\n",
              "      <th>reviewText</th>\n",
              "      <th>label</th>\n",
              "    </tr>\n",
              "  </thead>\n",
              "  <tbody>\n",
              "    <tr>\n",
              "      <th>0</th>\n",
              "      <td>1</td>\n",
              "      <td>162556</td>\n",
              "      <td>This is a really slow product, and some featur...</td>\n",
              "      <td>1</td>\n",
              "    </tr>\n",
              "    <tr>\n",
              "      <th>1</th>\n",
              "      <td>1</td>\n",
              "      <td>260161</td>\n",
              "      <td>I have purchased 3 pairs overtime.  January 20...</td>\n",
              "      <td>1</td>\n",
              "    </tr>\n",
              "    <tr>\n",
              "      <th>2</th>\n",
              "      <td>1</td>\n",
              "      <td>546764</td>\n",
              "      <td>Hello, I purchase the Nighthawk AC5300 and wor...</td>\n",
              "      <td>1</td>\n",
              "    </tr>\n",
              "    <tr>\n",
              "      <th>3</th>\n",
              "      <td>1</td>\n",
              "      <td>228563</td>\n",
              "      <td>The 3-pack arrived Saturday and two were insta...</td>\n",
              "      <td>1</td>\n",
              "    </tr>\n",
              "    <tr>\n",
              "      <th>4</th>\n",
              "      <td>1</td>\n",
              "      <td>628780</td>\n",
              "      <td>The projector itself is pretty amazing, HOWEVE...</td>\n",
              "      <td>1</td>\n",
              "    </tr>\n",
              "    <tr>\n",
              "      <th>...</th>\n",
              "      <td>...</td>\n",
              "      <td>...</td>\n",
              "      <td>...</td>\n",
              "      <td>...</td>\n",
              "    </tr>\n",
              "    <tr>\n",
              "      <th>274995</th>\n",
              "      <td>5</td>\n",
              "      <td>491321</td>\n",
              "      <td>Saw ~14c drop in temps at lower fan speeds ver...</td>\n",
              "      <td>5</td>\n",
              "    </tr>\n",
              "    <tr>\n",
              "      <th>274996</th>\n",
              "      <td>5</td>\n",
              "      <td>664834</td>\n",
              "      <td>DISCLAIMER: I RECIEVED THIS PRODUCT FOR A DISC...</td>\n",
              "      <td>5</td>\n",
              "    </tr>\n",
              "    <tr>\n",
              "      <th>274997</th>\n",
              "      <td>5</td>\n",
              "      <td>213504</td>\n",
              "      <td>Surprisingly this picked up over 60 channels h...</td>\n",
              "      <td>5</td>\n",
              "    </tr>\n",
              "    <tr>\n",
              "      <th>274998</th>\n",
              "      <td>5</td>\n",
              "      <td>644147</td>\n",
              "      <td>Had a Beltronics 965 for years, frustrated wit...</td>\n",
              "      <td>5</td>\n",
              "    </tr>\n",
              "    <tr>\n",
              "      <th>274999</th>\n",
              "      <td>5</td>\n",
              "      <td>695760</td>\n",
              "      <td>Note that this is actually TWO filters and not...</td>\n",
              "      <td>5</td>\n",
              "    </tr>\n",
              "  </tbody>\n",
              "</table>\n",
              "<p>275000 rows × 4 columns</p>\n",
              "</div>\n",
              "    <div class=\"colab-df-buttons\">\n",
              "\n",
              "  <div class=\"colab-df-container\">\n",
              "    <button class=\"colab-df-convert\" onclick=\"convertToInteractive('df-1f2cf80e-9ebe-4c7a-b8d5-f8356d0f68f0')\"\n",
              "            title=\"Convert this dataframe to an interactive table.\"\n",
              "            style=\"display:none;\">\n",
              "\n",
              "  <svg xmlns=\"http://www.w3.org/2000/svg\" height=\"24px\" viewBox=\"0 -960 960 960\">\n",
              "    <path d=\"M120-120v-720h720v720H120Zm60-500h600v-160H180v160Zm220 220h160v-160H400v160Zm0 220h160v-160H400v160ZM180-400h160v-160H180v160Zm440 0h160v-160H620v160ZM180-180h160v-160H180v160Zm440 0h160v-160H620v160Z\"/>\n",
              "  </svg>\n",
              "    </button>\n",
              "\n",
              "  <style>\n",
              "    .colab-df-container {\n",
              "      display:flex;\n",
              "      gap: 12px;\n",
              "    }\n",
              "\n",
              "    .colab-df-convert {\n",
              "      background-color: #E8F0FE;\n",
              "      border: none;\n",
              "      border-radius: 50%;\n",
              "      cursor: pointer;\n",
              "      display: none;\n",
              "      fill: #1967D2;\n",
              "      height: 32px;\n",
              "      padding: 0 0 0 0;\n",
              "      width: 32px;\n",
              "    }\n",
              "\n",
              "    .colab-df-convert:hover {\n",
              "      background-color: #E2EBFA;\n",
              "      box-shadow: 0px 1px 2px rgba(60, 64, 67, 0.3), 0px 1px 3px 1px rgba(60, 64, 67, 0.15);\n",
              "      fill: #174EA6;\n",
              "    }\n",
              "\n",
              "    .colab-df-buttons div {\n",
              "      margin-bottom: 4px;\n",
              "    }\n",
              "\n",
              "    [theme=dark] .colab-df-convert {\n",
              "      background-color: #3B4455;\n",
              "      fill: #D2E3FC;\n",
              "    }\n",
              "\n",
              "    [theme=dark] .colab-df-convert:hover {\n",
              "      background-color: #434B5C;\n",
              "      box-shadow: 0px 1px 3px 1px rgba(0, 0, 0, 0.15);\n",
              "      filter: drop-shadow(0px 1px 2px rgba(0, 0, 0, 0.3));\n",
              "      fill: #FFFFFF;\n",
              "    }\n",
              "  </style>\n",
              "\n",
              "    <script>\n",
              "      const buttonEl =\n",
              "        document.querySelector('#df-1f2cf80e-9ebe-4c7a-b8d5-f8356d0f68f0 button.colab-df-convert');\n",
              "      buttonEl.style.display =\n",
              "        google.colab.kernel.accessAllowed ? 'block' : 'none';\n",
              "\n",
              "      async function convertToInteractive(key) {\n",
              "        const element = document.querySelector('#df-1f2cf80e-9ebe-4c7a-b8d5-f8356d0f68f0');\n",
              "        const dataTable =\n",
              "          await google.colab.kernel.invokeFunction('convertToInteractive',\n",
              "                                                    [key], {});\n",
              "        if (!dataTable) return;\n",
              "\n",
              "        const docLinkHtml = 'Like what you see? Visit the ' +\n",
              "          '<a target=\"_blank\" href=https://colab.research.google.com/notebooks/data_table.ipynb>data table notebook</a>'\n",
              "          + ' to learn more about interactive tables.';\n",
              "        element.innerHTML = '';\n",
              "        dataTable['output_type'] = 'display_data';\n",
              "        await google.colab.output.renderOutput(dataTable, element);\n",
              "        const docLink = document.createElement('div');\n",
              "        docLink.innerHTML = docLinkHtml;\n",
              "        element.appendChild(docLink);\n",
              "      }\n",
              "    </script>\n",
              "  </div>\n",
              "\n",
              "\n",
              "<div id=\"df-03a3a1d2-6410-49df-916d-ce64c570fe86\">\n",
              "  <button class=\"colab-df-quickchart\" onclick=\"quickchart('df-03a3a1d2-6410-49df-916d-ce64c570fe86')\"\n",
              "            title=\"Suggest charts\"\n",
              "            style=\"display:none;\">\n",
              "\n",
              "<svg xmlns=\"http://www.w3.org/2000/svg\" height=\"24px\"viewBox=\"0 0 24 24\"\n",
              "     width=\"24px\">\n",
              "    <g>\n",
              "        <path d=\"M19 3H5c-1.1 0-2 .9-2 2v14c0 1.1.9 2 2 2h14c1.1 0 2-.9 2-2V5c0-1.1-.9-2-2-2zM9 17H7v-7h2v7zm4 0h-2V7h2v10zm4 0h-2v-4h2v4z\"/>\n",
              "    </g>\n",
              "</svg>\n",
              "  </button>\n",
              "\n",
              "<style>\n",
              "  .colab-df-quickchart {\n",
              "      --bg-color: #E8F0FE;\n",
              "      --fill-color: #1967D2;\n",
              "      --hover-bg-color: #E2EBFA;\n",
              "      --hover-fill-color: #174EA6;\n",
              "      --disabled-fill-color: #AAA;\n",
              "      --disabled-bg-color: #DDD;\n",
              "  }\n",
              "\n",
              "  [theme=dark] .colab-df-quickchart {\n",
              "      --bg-color: #3B4455;\n",
              "      --fill-color: #D2E3FC;\n",
              "      --hover-bg-color: #434B5C;\n",
              "      --hover-fill-color: #FFFFFF;\n",
              "      --disabled-bg-color: #3B4455;\n",
              "      --disabled-fill-color: #666;\n",
              "  }\n",
              "\n",
              "  .colab-df-quickchart {\n",
              "    background-color: var(--bg-color);\n",
              "    border: none;\n",
              "    border-radius: 50%;\n",
              "    cursor: pointer;\n",
              "    display: none;\n",
              "    fill: var(--fill-color);\n",
              "    height: 32px;\n",
              "    padding: 0;\n",
              "    width: 32px;\n",
              "  }\n",
              "\n",
              "  .colab-df-quickchart:hover {\n",
              "    background-color: var(--hover-bg-color);\n",
              "    box-shadow: 0 1px 2px rgba(60, 64, 67, 0.3), 0 1px 3px 1px rgba(60, 64, 67, 0.15);\n",
              "    fill: var(--button-hover-fill-color);\n",
              "  }\n",
              "\n",
              "  .colab-df-quickchart-complete:disabled,\n",
              "  .colab-df-quickchart-complete:disabled:hover {\n",
              "    background-color: var(--disabled-bg-color);\n",
              "    fill: var(--disabled-fill-color);\n",
              "    box-shadow: none;\n",
              "  }\n",
              "\n",
              "  .colab-df-spinner {\n",
              "    border: 2px solid var(--fill-color);\n",
              "    border-color: transparent;\n",
              "    border-bottom-color: var(--fill-color);\n",
              "    animation:\n",
              "      spin 1s steps(1) infinite;\n",
              "  }\n",
              "\n",
              "  @keyframes spin {\n",
              "    0% {\n",
              "      border-color: transparent;\n",
              "      border-bottom-color: var(--fill-color);\n",
              "      border-left-color: var(--fill-color);\n",
              "    }\n",
              "    20% {\n",
              "      border-color: transparent;\n",
              "      border-left-color: var(--fill-color);\n",
              "      border-top-color: var(--fill-color);\n",
              "    }\n",
              "    30% {\n",
              "      border-color: transparent;\n",
              "      border-left-color: var(--fill-color);\n",
              "      border-top-color: var(--fill-color);\n",
              "      border-right-color: var(--fill-color);\n",
              "    }\n",
              "    40% {\n",
              "      border-color: transparent;\n",
              "      border-right-color: var(--fill-color);\n",
              "      border-top-color: var(--fill-color);\n",
              "    }\n",
              "    60% {\n",
              "      border-color: transparent;\n",
              "      border-right-color: var(--fill-color);\n",
              "    }\n",
              "    80% {\n",
              "      border-color: transparent;\n",
              "      border-right-color: var(--fill-color);\n",
              "      border-bottom-color: var(--fill-color);\n",
              "    }\n",
              "    90% {\n",
              "      border-color: transparent;\n",
              "      border-bottom-color: var(--fill-color);\n",
              "    }\n",
              "  }\n",
              "</style>\n",
              "\n",
              "  <script>\n",
              "    async function quickchart(key) {\n",
              "      const quickchartButtonEl =\n",
              "        document.querySelector('#' + key + ' button');\n",
              "      quickchartButtonEl.disabled = true;  // To prevent multiple clicks.\n",
              "      quickchartButtonEl.classList.add('colab-df-spinner');\n",
              "      try {\n",
              "        const charts = await google.colab.kernel.invokeFunction(\n",
              "            'suggestCharts', [key], {});\n",
              "      } catch (error) {\n",
              "        console.error('Error during call to suggestCharts:', error);\n",
              "      }\n",
              "      quickchartButtonEl.classList.remove('colab-df-spinner');\n",
              "      quickchartButtonEl.classList.add('colab-df-quickchart-complete');\n",
              "    }\n",
              "    (() => {\n",
              "      let quickchartButtonEl =\n",
              "        document.querySelector('#df-03a3a1d2-6410-49df-916d-ce64c570fe86 button');\n",
              "      quickchartButtonEl.style.display =\n",
              "        google.colab.kernel.accessAllowed ? 'block' : 'none';\n",
              "    })();\n",
              "  </script>\n",
              "</div>\n",
              "    </div>\n",
              "  </div>\n"
            ]
          },
          "metadata": {},
          "execution_count": 12
        }
      ]
    },
    {
      "cell_type": "code",
      "source": [
        "utext_train, utext_validation, utarget_train, utarget_validation = train_test_split(udf['reviewText'], udf['label'], test_size=0.2, random_state=42)"
      ],
      "metadata": {
        "id": "UvMsLsPct3Tg"
      },
      "execution_count": 13,
      "outputs": []
    },
    {
      "cell_type": "markdown",
      "source": [
        "### Turn Texts to Lists"
      ],
      "metadata": {
        "id": "2GCljr2FoUZp"
      }
    },
    {
      "cell_type": "code",
      "source": [
        "text_train = text_train.tolist()\n",
        "text_validation  = text_validation.tolist()\n",
        "utext_train = utext_train.tolist()\n",
        "utext_validation = utext_validation.tolist()"
      ],
      "metadata": {
        "id": "ECKLHldYoZmq"
      },
      "execution_count": 14,
      "outputs": []
    },
    {
      "cell_type": "code",
      "source": [
        "text_train[:7]"
      ],
      "metadata": {
        "colab": {
          "base_uri": "https://localhost:8080/"
        },
        "id": "UGaRo0oMoiNL",
        "outputId": "0fc90af9-c5cd-40ca-b42a-06a555585956"
      },
      "execution_count": 15,
      "outputs": [
        {
          "output_type": "execute_result",
          "data": {
            "text/plain": [
              "[\"I have had this camera for a year now. The camera seems to work fine, but since I can't get it to attach to a camera grip handle, or a tripod, or even find a way to attach a lanyard to the waterproof case, I have never been able to use it. If I wanted to stick it on my bike helmet I'd be in business, but I bought a waterproof camera so I could use it to snorkel and for that it is useless.\",\n",
              " 'This Acer LCD monitor arrived almost a week late.  The unit is packaged as expected.  The unit connected to the PC and the picture was very washed out.  Adjusting the picture with the monitor controls is not easy.  I updated my video driver and the unit was still not exceptable.  The unit ships with a CD that is not to helpful.  I finally downloaded \"Acer eDisplay Management\" software.  I ran that and the picture looked some better.  I am debating returning the unit.',\n",
              " \"Upgraded from a standard hard drive to this SSD. Love it - it's a world of difference. Installing windows went ridiculously quickly (like 10 minutes instead of an hour). Windows boots up in 15 seconds instead of a minute. Everything loads and starts up silky smooth. This has breathed new life into what otherwise felt like an old and aging laptop.\",\n",
              " 'first tablet I ever bought. The specs was good. but it was a laggy, not sure why.... it also had a hard time connecting my google play account to a game i was playing. Ultimately Decided that I wanted a smaller tablet , will return this.',\n",
              " 'Purchased this to convert my Fire HD 10 tablet to a \"laplet\" using an inexpensive (~ $20) wireless keyboard/mouse combo that connects via a 2.4 GHz USB 2.0 receiver.  Works great as soon a you plug it in .  Android provides native driver support without additional software.  The keyboard/mouse combo is not very portable, but I prefer the full size keyboard, and I\\'ll mostly use this at home anyway.',\n",
              " 'so first of I moved and the modem/wifi router was not in my room (which was a problem) I had a crappy wifi adapter from belkin and I needed and upgrade so I con tp-link av 500... they sucked... so the I got the tp-link n900 wifi adapter (runs on pcie x1 3.0) and it sucked but I was stuck with it.. I got feed up and found these months late and got them AND I LOVE THEM SO FAR FINALLY I CAN PLAY Battlefield 4 ON MY PC WITH NO LAG AND OTHER GAMES LIKE CS:GO AND BLACK OPS 3 GREAT FOR PC GAMERS NO LAG SPIKES!!!!\\nUpdate: I am now having issues with this product, yesterday it stopped working right after a reboot off my PC, I thought it was my computer so I reinstalled Big Foot Lan Driver... No use... today they are working again (thank god) but the fact that they acted up like that is uncalled for, I am taking off two stars for now. Do I recommend this product now? sadly no, just buy 100ft of Ethernet, its only like 10 bucks save your self the trouble of moody powerlines. It is sad this product stopped working good (I really liked it)',\n",
              " 'New purchase, but so far its working great while connected to an 18W Solar Joos Orange charger (<a data-hook=\"product-link-linked\" class=\"a-link-normal\" href=\"/Solar-Components-LLC-JOOS-Orange-Portable-Solar-Charger/dp/B00F8USW3Y/ref=cm_cr_arp_d_rvw_txt?ie=UTF8\">Solar Components, LLC JOOS Orange Portable Solar Charger</a>).  It will be used primarily hiking/camping to recharge NiMH AA and AAA batteries for a GPS and UHF/VHF handheld radio and it works very well for that.  I haven\\'t charged them up from completely dead yet, but just the fact that it works is enough for me and it fills a gap in the portability department.']"
            ]
          },
          "metadata": {},
          "execution_count": 15
        }
      ]
    },
    {
      "cell_type": "markdown",
      "source": [
        "### Encoding Labels"
      ],
      "metadata": {
        "id": "_EpgP-W-nRA8"
      }
    },
    {
      "cell_type": "markdown",
      "source": [
        "#### Base Data"
      ],
      "metadata": {
        "id": "t_cnMHLRuAkg"
      }
    },
    {
      "cell_type": "code",
      "source": [
        "one_hot_encoder = OneHotEncoder(sparse_output=False)\n",
        "\n",
        "train_labels_one_hot = one_hot_encoder.fit_transform(target_train.to_numpy().reshape(-1, 1))\n",
        "val_labels_one_hot = one_hot_encoder.transform(target_validation.to_numpy().reshape(-1, 1))\n",
        "\n",
        "train_labels_one_hot"
      ],
      "metadata": {
        "colab": {
          "base_uri": "https://localhost:8080/"
        },
        "id": "E-A4W9nymPZi",
        "outputId": "bf7db97f-1269-4d4a-e70a-91a1fc760eed"
      },
      "execution_count": 16,
      "outputs": [
        {
          "output_type": "execute_result",
          "data": {
            "text/plain": [
              "array([[1., 0., 0., 0., 0.],\n",
              "       [0., 0., 1., 0., 0.],\n",
              "       [0., 0., 0., 0., 1.],\n",
              "       ...,\n",
              "       [0., 0., 0., 0., 1.],\n",
              "       [0., 0., 0., 0., 1.],\n",
              "       [0., 0., 0., 0., 1.]])"
            ]
          },
          "metadata": {},
          "execution_count": 16
        }
      ]
    },
    {
      "cell_type": "markdown",
      "source": [
        "#### Undersample Data"
      ],
      "metadata": {
        "id": "ddpYebT-uDMk"
      }
    },
    {
      "cell_type": "code",
      "source": [
        "one_hot_encoder = OneHotEncoder(sparse_output=False)\n",
        "\n",
        "utrain_labels_one_hot = one_hot_encoder.fit_transform(utarget_train.to_numpy().reshape(-1, 1))\n",
        "uval_labels_one_hot = one_hot_encoder.transform(utarget_validation.to_numpy().reshape(-1, 1))\n",
        "\n",
        "utrain_labels_one_hot"
      ],
      "metadata": {
        "colab": {
          "base_uri": "https://localhost:8080/"
        },
        "id": "DdrYMBdduFQY",
        "outputId": "a3bc8cba-356c-4cb8-afb7-041440f40b2e"
      },
      "execution_count": 17,
      "outputs": [
        {
          "output_type": "execute_result",
          "data": {
            "text/plain": [
              "array([[0., 0., 0., 0., 1.],\n",
              "       [1., 0., 0., 0., 0.],\n",
              "       [0., 0., 0., 0., 1.],\n",
              "       ...,\n",
              "       [0., 0., 1., 0., 0.],\n",
              "       [0., 0., 1., 0., 0.],\n",
              "       [0., 0., 1., 0., 0.]])"
            ]
          },
          "metadata": {},
          "execution_count": 17
        }
      ]
    },
    {
      "cell_type": "markdown",
      "source": [
        "## Model Experimenting"
      ],
      "metadata": {
        "id": "UHeW75kWnQbi"
      }
    },
    {
      "cell_type": "markdown",
      "source": [
        "### Model 1: Multinomial Naive Bayes"
      ],
      "metadata": {
        "id": "-ABuv_W9oAUt"
      }
    },
    {
      "cell_type": "markdown",
      "source": [
        "Naive Bayes classifier for multinomial models.\n",
        "\n",
        "The multinomial Naive Bayes classifier is suitable for classification with discrete features (e.g., word counts for text classification). The multinomial distribution normally requires integer feature counts. However, in practice, fractional counts such as tf-idf may also work."
      ],
      "metadata": {
        "id": "ioyG1RybrLSo"
      }
    },
    {
      "cell_type": "markdown",
      "source": [
        "#### Base Data"
      ],
      "metadata": {
        "id": "_lWUdw6duPQP"
      }
    },
    {
      "cell_type": "markdown",
      "source": [
        "##### Training"
      ],
      "metadata": {
        "id": "PW3tt4ZcqiK7"
      }
    },
    {
      "cell_type": "code",
      "source": [
        "model_1 = Pipeline([\n",
        "  (\"tfidf\", TfidfVectorizer()),\n",
        "  (\"nb\", MultinomialNB())\n",
        "])\n",
        "\n",
        "model_1.fit(X=text_train,\n",
        "            y=target_train);"
      ],
      "metadata": {
        "id": "qO_MLtfYn-1D"
      },
      "execution_count": null,
      "outputs": []
    },
    {
      "cell_type": "markdown",
      "source": [
        "##### Evaluation"
      ],
      "metadata": {
        "id": "wQQUQWmmqHnx"
      }
    },
    {
      "cell_type": "code",
      "source": [
        "model_1.score(X=text_validation,\n",
        "              y=target_validation)"
      ],
      "metadata": {
        "colab": {
          "base_uri": "https://localhost:8080/"
        },
        "id": "e4wVuFZdqn6p",
        "outputId": "5a80dccd-dc65-4383-f6a8-9d2e2cb886c7"
      },
      "execution_count": null,
      "outputs": [
        {
          "output_type": "execute_result",
          "data": {
            "text/plain": [
              "0.5564905923511076"
            ]
          },
          "metadata": {},
          "execution_count": 29
        }
      ]
    },
    {
      "cell_type": "code",
      "source": [
        "y_preds = model_1.predict(text_validation)\n",
        "mnb = classification_report(target_validation, y_preds)\n",
        "print(mnb)"
      ],
      "metadata": {
        "colab": {
          "base_uri": "https://localhost:8080/"
        },
        "id": "R_Lfklafq90J",
        "outputId": "a8e61b49-afb6-43d8-b80f-7b2d804bea61"
      },
      "execution_count": null,
      "outputs": [
        {
          "output_type": "stream",
          "name": "stdout",
          "text": [
            "              precision    recall  f1-score   support\n",
            "\n",
            "           1       0.80      0.05      0.10     16572\n",
            "           2       0.00      0.00      0.00     11347\n",
            "           3       0.00      0.00      0.00     16109\n",
            "           4       0.45      0.00      0.00     31292\n",
            "           5       0.55      1.00      0.71     92469\n",
            "\n",
            "    accuracy                           0.56    167789\n",
            "   macro avg       0.36      0.21      0.16    167789\n",
            "weighted avg       0.47      0.56      0.40    167789\n",
            "\n"
          ]
        }
      ]
    },
    {
      "cell_type": "markdown",
      "source": [
        "#### Undersampled Data"
      ],
      "metadata": {
        "id": "VzeJVyKBsQba"
      }
    },
    {
      "cell_type": "markdown",
      "source": [
        "##### Training"
      ],
      "metadata": {
        "id": "-o-HSB0uvCuK"
      }
    },
    {
      "cell_type": "code",
      "source": [
        "model_1u = Pipeline([\n",
        "  (\"tfidf\", TfidfVectorizer()),\n",
        "  (\"nb\", MultinomialNB())\n",
        "])\n",
        "\n",
        "model_1u.fit(X=utext_train,\n",
        "            y=utarget_train);"
      ],
      "metadata": {
        "id": "wCBXMLCMtFbY"
      },
      "execution_count": null,
      "outputs": []
    },
    {
      "cell_type": "markdown",
      "source": [
        "##### Evaluation"
      ],
      "metadata": {
        "id": "G-ZFlgxBvE1X"
      }
    },
    {
      "cell_type": "code",
      "source": [
        "model_1u.score(X=utext_validation,\n",
        "              y=utarget_validation)"
      ],
      "metadata": {
        "colab": {
          "base_uri": "https://localhost:8080/"
        },
        "id": "awb0klTGubj0",
        "outputId": "9f6b8c9e-1267-4f9f-ad39-a59499fceb8b"
      },
      "execution_count": null,
      "outputs": [
        {
          "output_type": "execute_result",
          "data": {
            "text/plain": [
              "0.4651636363636364"
            ]
          },
          "metadata": {},
          "execution_count": 32
        }
      ]
    },
    {
      "cell_type": "code",
      "source": [
        "y_preds = model_1u.predict(utext_validation)\n",
        "mnbu = classification_report(utarget_validation, y_preds)\n",
        "print(mnbu)"
      ],
      "metadata": {
        "colab": {
          "base_uri": "https://localhost:8080/"
        },
        "id": "XYuFOzttueRD",
        "outputId": "d3c71bff-3384-4f04-f373-ea1fc1cd8c62"
      },
      "execution_count": null,
      "outputs": [
        {
          "output_type": "stream",
          "name": "stdout",
          "text": [
            "              precision    recall  f1-score   support\n",
            "\n",
            "           1       0.51      0.62      0.56     10965\n",
            "           2       0.38      0.32      0.34     10863\n",
            "           3       0.37      0.33      0.35     11057\n",
            "           4       0.42      0.51      0.46     10974\n",
            "           5       0.65      0.55      0.59     11141\n",
            "\n",
            "    accuracy                           0.47     55000\n",
            "   macro avg       0.47      0.46      0.46     55000\n",
            "weighted avg       0.47      0.47      0.46     55000\n",
            "\n"
          ]
        }
      ]
    },
    {
      "cell_type": "markdown",
      "source": [
        "### Further Preprocessing"
      ],
      "metadata": {
        "id": "OVLzW69YunN5"
      }
    },
    {
      "cell_type": "markdown",
      "source": [
        "#### Texts Average Length"
      ],
      "metadata": {
        "id": "P7DsrAGovU-4"
      }
    },
    {
      "cell_type": "code",
      "source": [
        "text_lens = [len(sentence.split()) for sentence in text_train]\n",
        "text_lens_avg = np.mean(text_lens)\n",
        "text_lens_avg"
      ],
      "metadata": {
        "colab": {
          "base_uri": "https://localhost:8080/"
        },
        "id": "S795nHN-vR94",
        "outputId": "4cc19c1b-d5f0-4a0b-f497-f58403b99565"
      },
      "execution_count": null,
      "outputs": [
        {
          "output_type": "execute_result",
          "data": {
            "text/plain": [
              "115.19789914401294"
            ]
          },
          "metadata": {},
          "execution_count": 173
        }
      ]
    },
    {
      "cell_type": "code",
      "source": [
        "fig, ax = plt.subplots(figsize=(12, 5))\n",
        "ax.hist(text_lens);"
      ],
      "metadata": {
        "colab": {
          "base_uri": "https://localhost:8080/",
          "height": 445
        },
        "id": "L2vggLYEvdnc",
        "outputId": "c060b540-f9f8-401e-843f-3eef17107abc"
      },
      "execution_count": null,
      "outputs": [
        {
          "output_type": "display_data",
          "data": {
            "text/plain": [
              "<Figure size 1200x500 with 1 Axes>"
            ],
            "image/png": "[encoded data removed]"
          },
          "metadata": {}
        }
      ]
    },
    {
      "cell_type": "markdown",
      "source": [
        "#### Get 95 Percentile for Text Length"
      ],
      "metadata": {
        "id": "cy6u7hgRwD0I"
      }
    },
    {
      "cell_type": "code",
      "source": [
        "output_seq_len = int(np.percentile(text_lens, 95))\n",
        "output_seq_len"
      ],
      "metadata": {
        "colab": {
          "base_uri": "https://localhost:8080/"
        },
        "id": "8571SlsRvwbg",
        "outputId": "a5803601-2716-439d-fad2-c17536ca6607"
      },
      "execution_count": null,
      "outputs": [
        {
          "output_type": "execute_result",
          "data": {
            "text/plain": [
              "317"
            ]
          },
          "metadata": {},
          "execution_count": 175
        }
      ]
    },
    {
      "cell_type": "markdown",
      "source": [
        "95% of the sentences in our training set have a length of 317 tokens or less."
      ],
      "metadata": {
        "id": "qOtQAWHtwKzo"
      }
    },
    {
      "cell_type": "markdown",
      "source": [
        "#### Maximum Text Length in Training Texts"
      ],
      "metadata": {
        "id": "kj3OzQTBwXQh"
      }
    },
    {
      "cell_type": "code",
      "source": [
        "max(text_lens)"
      ],
      "metadata": {
        "colab": {
          "base_uri": "https://localhost:8080/"
        },
        "id": "sC7HF8epwPmT",
        "outputId": "d35068be-f35a-4239-fe21-eaefb78f6e90"
      },
      "execution_count": null,
      "outputs": [
        {
          "output_type": "execute_result",
          "data": {
            "text/plain": [
              "5144"
            ]
          },
          "metadata": {},
          "execution_count": 40
        }
      ]
    },
    {
      "cell_type": "markdown",
      "source": [
        "#### Removing Symbols"
      ],
      "metadata": {
        "id": "FRRJyXpI0o4f"
      }
    },
    {
      "cell_type": "code",
      "source": [
        "idx = random.randint(0, len(df)-1)\n",
        "before_process = df.iloc[idx][0]\n",
        "\n",
        "def process(x):\n",
        "    x = re.sub('[,\\.!?:()\"]', '', x)\n",
        "    x = re.sub('<.*?>', ' ', x)\n",
        "    x = re.sub('http\\S+', ' ', x)\n",
        "    x = re.sub('[^a-zA-Z0-9]', ' ', x)\n",
        "    x = re.sub('\\s+', ' ', x)\n",
        "    x = re.sub('\\n+', ' ', x)\n",
        "    return x.lower().strip()\n",
        "\n",
        "df['reviewText'] = df['reviewText'] .progress_apply(lambda x: process(x))\n",
        "after_process = df.iloc[idx][0]"
      ],
      "metadata": {
        "colab": {
          "base_uri": "https://localhost:8080/"
        },
        "id": "L9h04g850RUR",
        "outputId": "3aef0f0c-c6e8-4a3c-8ed0-9921d6469841"
      },
      "execution_count": null,
      "outputs": [
        {
          "output_type": "stream",
          "name": "stderr",
          "text": [
            "100%|██████████| 838944/838944 [01:24<00:00, 9926.75it/s]\n"
          ]
        }
      ]
    },
    {
      "cell_type": "markdown",
      "source": [
        "#### Removing Stopwords"
      ],
      "metadata": {
        "id": "JFVNEMhc0iHW"
      }
    },
    {
      "cell_type": "code",
      "source": [
        "sw_set = set(nltk.corpus.stopwords.words('english'))\n",
        "\n",
        "def sw_remove(x):\n",
        "    words = nltk.tokenize.word_tokenize(x)\n",
        "    filtered_list = [word for word in words if word not in sw_set]\n",
        "    return ' '.join(filtered_list)\n",
        "\n",
        "df['reviewText'] = df['reviewText'].progress_apply(lambda x: sw_remove(x))\n",
        "after_removal = sw_remove(after_process)"
      ],
      "metadata": {
        "colab": {
          "base_uri": "https://localhost:8080/"
        },
        "id": "N6ltsrLV1JM5",
        "outputId": "e1ba0d7d-40a0-4827-b47f-f9f7997773df"
      },
      "execution_count": null,
      "outputs": [
        {
          "output_type": "stream",
          "name": "stderr",
          "text": [
            "100%|██████████| 838944/838944 [06:06<00:00, 2290.41it/s]\n"
          ]
        }
      ]
    },
    {
      "cell_type": "markdown",
      "source": [
        "#### Checking Results"
      ],
      "metadata": {
        "id": "Fb5vvI6S1frf"
      }
    },
    {
      "cell_type": "code",
      "source": [
        "print('Original Text:')\n",
        "before_process"
      ],
      "metadata": {
        "colab": {
          "base_uri": "https://localhost:8080/",
          "height": 70
        },
        "id": "wLxaFmYp1Nnr",
        "outputId": "bea4a6e8-b6cd-47a3-b3ae-c01becd3281e"
      },
      "execution_count": null,
      "outputs": [
        {
          "output_type": "stream",
          "name": "stdout",
          "text": [
            "Original Text:\n"
          ]
        },
        {
          "output_type": "execute_result",
          "data": {
            "text/plain": [
              "\"I used this for a new build and it works great. This is my second computer with a SSD as the boot drive and I'm never going back. I can boot from blank to fully logged in in less than 30 seconds. Outstanding!\""
            ],
            "application/vnd.google.colaboratory.intrinsic+json": {
              "type": "string"
            }
          },
          "metadata": {},
          "execution_count": 178
        }
      ]
    },
    {
      "cell_type": "code",
      "source": [
        "print('After First Process:')\n",
        "after_process"
      ],
      "metadata": {
        "colab": {
          "base_uri": "https://localhost:8080/",
          "height": 70
        },
        "id": "DMg0QVfF3OEZ",
        "outputId": "b17f52fb-fb75-48dd-ce45-cdd27df4f7e8"
      },
      "execution_count": null,
      "outputs": [
        {
          "output_type": "stream",
          "name": "stdout",
          "text": [
            "After First Process:\n"
          ]
        },
        {
          "output_type": "execute_result",
          "data": {
            "text/plain": [
              "'i used this for a new build and it works great this is my second computer with a ssd as the boot drive and i m never going back i can boot from blank to fully logged in in less than 30 seconds outstanding'"
            ],
            "application/vnd.google.colaboratory.intrinsic+json": {
              "type": "string"
            }
          },
          "metadata": {},
          "execution_count": 179
        }
      ]
    },
    {
      "cell_type": "code",
      "source": [
        "print('After Removing Stopwords:')\n",
        "after_removal"
      ],
      "metadata": {
        "colab": {
          "base_uri": "https://localhost:8080/",
          "height": 52
        },
        "id": "DTq-JJhn1jjY",
        "outputId": "d46fcee9-b3b1-45b0-9dab-08d04234fa06"
      },
      "execution_count": null,
      "outputs": [
        {
          "output_type": "stream",
          "name": "stdout",
          "text": [
            "After Removing Stopwords:\n"
          ]
        },
        {
          "output_type": "execute_result",
          "data": {
            "text/plain": [
              "'used new build works great second computer ssd boot drive never going back boot blank fully logged less 30 seconds outstanding'"
            ],
            "application/vnd.google.colaboratory.intrinsic+json": {
              "type": "string"
            }
          },
          "metadata": {},
          "execution_count": 180
        }
      ]
    },
    {
      "cell_type": "markdown",
      "source": [
        "#### Splitting Further Preprocessed Data"
      ],
      "metadata": {
        "id": "Rtl-PRPN3TR2"
      }
    },
    {
      "cell_type": "code",
      "source": [
        "text_train, text_validation, target_train, target_validation = train_test_split(df['reviewText'], df['overall'], test_size=0.2, random_state=42)"
      ],
      "metadata": {
        "id": "sZudMo7N3ooW"
      },
      "execution_count": null,
      "outputs": []
    },
    {
      "cell_type": "code",
      "source": [
        "np.random.seed(42)\n",
        "nMax = 55000\n",
        "udf = df.groupby('overall').progress_apply(lambda x: x.sample(n=min(nMax, len(x))))\n",
        "udf = udf.rename(columns={'overall': 'label'}).reset_index()\n",
        "utext_train, utext_validation, utarget_train, utarget_validation = train_test_split(udf['reviewText'], udf['label'], test_size=0.2, random_state=42)"
      ],
      "metadata": {
        "colab": {
          "base_uri": "https://localhost:8080/"
        },
        "id": "_Z_fXiko3u-Y",
        "outputId": "f2613f4d-98c5-4045-c0cb-c5ffa1886cc2"
      },
      "execution_count": null,
      "outputs": [
        {
          "output_type": "stream",
          "name": "stderr",
          "text": [
            "100%|██████████| 5/5 [00:00<00:00, 20.63it/s]\n"
          ]
        }
      ]
    },
    {
      "cell_type": "code",
      "source": [
        "utext_train, utext_validation, utarget_train, utarget_validation = train_test_split(udf['reviewText'], udf['overall'], test_size=0.2, random_state=42)"
      ],
      "metadata": {
        "id": "I4heVPSVWiNk"
      },
      "execution_count": null,
      "outputs": []
    },
    {
      "cell_type": "code",
      "source": [
        "text_train = text_train.tolist()\n",
        "text_validation  = text_validation.tolist()\n",
        "utext_train = utext_train.tolist()\n",
        "utext_validation = utext_validation.tolist()"
      ],
      "metadata": {
        "id": "1Y6OVxiW32je"
      },
      "execution_count": null,
      "outputs": []
    },
    {
      "cell_type": "code",
      "source": [
        "text_train [:7]"
      ],
      "metadata": {
        "colab": {
          "base_uri": "https://localhost:8080/"
        },
        "id": "osjlAgwQ37iF",
        "outputId": "ce61e5bc-bd93-4cae-e68a-d8e6f4c4b058"
      },
      "execution_count": null,
      "outputs": [
        {
          "output_type": "execute_result",
          "data": {
            "text/plain": [
              "['camera year camera seems work fine since get attach camera grip handle tripod even find way attach lanyard waterproof case never able use wanted stick bike helmet business bought waterproof camera could use snorkel useless',\n",
              " 'acer lcd monitor arrived almost week late unit packaged expected unit connected pc picture washed adjusting picture monitor controls easy updated video driver unit still exceptable unit ships cd helpful finally downloaded acer edisplay management software ran picture looked better debating returning unit',\n",
              " 'upgraded standard hard drive ssd love world difference installing windows went ridiculously quickly like 10 minutes instead hour windows boots 15 seconds instead minute everything loads starts silky smooth breathed new life otherwise felt like old aging laptop',\n",
              " 'first tablet ever bought specs good laggy sure also hard time connecting google play account game playing ultimately decided wanted smaller tablet return',\n",
              " 'purchased convert fire hd 10 tablet laplet using inexpensive 20 wireless keyboard mouse combo connects via 24 ghz usb 20 receiver works great soon plug android provides native driver support without additional software keyboard mouse combo portable prefer full size keyboard mostly use home anyway',\n",
              " 'first moved modem wifi router room problem crappy wifi adapter belkin needed upgrade con tp link av 500 sucked got tp link n900 wifi adapter runs pcie x1 30 sucked stuck got feed found months late got love far finally play battlefield 4 pc lag games like csgo black ops 3 great pc gamers lag spikes update issues product yesterday stopped working right reboot pc thought computer reinstalled big foot lan driver use today working thank god fact acted like uncalled taking two stars recommend product sadly buy 100ft ethernet like 10 bucks save self trouble moody powerlines sad product stopped working good really liked',\n",
              " 'new purchase far working great connected 18w solar joos orange charger solar components llc joos orange portable solar charger used primarily hiking camping recharge nimh aa aaa batteries gps uhf vhf handheld radio works well charged completely dead yet fact works enough fills gap portability department']"
            ]
          },
          "metadata": {},
          "execution_count": 201
        }
      ]
    },
    {
      "cell_type": "code",
      "source": [
        "text_lens = [len(sentence.split()) for sentence in text_train]\n",
        "text_lens_avg = np.mean(text_lens)\n",
        "text_lens_avg"
      ],
      "metadata": {
        "colab": {
          "base_uri": "https://localhost:8080/"
        },
        "id": "bEKP4qoyUM31",
        "outputId": "23966baf-fc26-4951-ccc6-c2e815ae00cd"
      },
      "execution_count": null,
      "outputs": [
        {
          "output_type": "execute_result",
          "data": {
            "text/plain": [
              "58.25811325252736"
            ]
          },
          "metadata": {},
          "execution_count": 202
        }
      ]
    },
    {
      "cell_type": "code",
      "source": [
        "output_seq_len = int(np.percentile(text_lens, 95))\n",
        "output_seq_len"
      ],
      "metadata": {
        "colab": {
          "base_uri": "https://localhost:8080/"
        },
        "id": "2q0pbg7dUQ4M",
        "outputId": "c1a794ca-74c5-4153-90d1-1540bcffe152"
      },
      "execution_count": null,
      "outputs": [
        {
          "output_type": "execute_result",
          "data": {
            "text/plain": [
              "160"
            ]
          },
          "metadata": {},
          "execution_count": 203
        }
      ]
    },
    {
      "cell_type": "markdown",
      "source": [
        "#### Tokenizing"
      ],
      "metadata": {
        "id": "mKuKGwTL46P8"
      }
    },
    {
      "cell_type": "code",
      "source": [
        "len(set((' '.join(df['reviewText'])).split(' ')))"
      ],
      "metadata": {
        "colab": {
          "base_uri": "https://localhost:8080/"
        },
        "id": "dQgUm88_6osF",
        "outputId": "4cce0067-0e43-40f9-e9a2-16f9dc8f9f75"
      },
      "execution_count": null,
      "outputs": [
        {
          "output_type": "execute_result",
          "data": {
            "text/plain": [
              "278951"
            ]
          },
          "metadata": {},
          "execution_count": 45
        }
      ]
    },
    {
      "cell_type": "code",
      "source": [
        "dict_size = 70000\n",
        "tokenizer = Tokenizer(num_words=dict_size)\n",
        "tokenizer.fit_on_texts(df['reviewText'])\n",
        "\n",
        "print('\\033[1m' + 'Dictionary size:' + '\\033[0m', dict_size)\n",
        "print('\\033[1m' + 'Length of the tokenizer index:' + '\\033[0m', len(tokenizer.word_index))\n",
        "print('\\033[1m' + 'Number of documents the tokenizer was trained on:' + '\\033[0m', tokenizer.document_count, '\\n')\n",
        "print('\\033[1m' + 'First 20 entries of the tokenizer index:' + '\\033[0m')\n",
        "print(*list(tokenizer.word_index.items())[:20])"
      ],
      "metadata": {
        "colab": {
          "base_uri": "https://localhost:8080/"
        },
        "id": "vmWFsakC4HIt",
        "outputId": "d3e6914b-1316-4321-c14d-0b99efb9ad2f"
      },
      "execution_count": null,
      "outputs": [
        {
          "output_type": "stream",
          "name": "stdout",
          "text": [
            "\u001b[1mDictionary size:\u001b[0m 70000\n",
            "\u001b[1mLength of the tokenizer index:\u001b[0m 278950\n",
            "\u001b[1mNumber of documents the tokenizer was trained on:\u001b[0m 838944 \n",
            "\n",
            "\u001b[1mFirst 20 entries of the tokenizer index:\u001b[0m\n",
            "('one', 1) ('use', 2) ('great', 3) ('like', 4) ('would', 5) ('good', 6) ('well', 7) ('get', 8) ('work', 9) ('works', 10) ('sound', 11) ('quality', 12) ('also', 13) ('case', 14) ('time', 15) ('really', 16) ('product', 17) ('camera', 18) ('cable', 19) ('using', 20)\n"
          ]
        }
      ]
    },
    {
      "cell_type": "code",
      "source": [
        "text_train_tokens = tokenizer.texts_to_sequences(text_train)\n",
        "text_validation_tokens = tokenizer.texts_to_sequences(text_validation)\n",
        "utext_train_tokens = tokenizer.texts_to_sequences(utext_train)\n",
        "utext_validation_tokens = tokenizer.texts_to_sequences(utext_validation)\n",
        "seq_lengths =  np.array([len(sequence) for sequence in text_train_tokens])\n",
        "useq_lengths =  np.array([len(sequence) for sequence in utext_train_tokens])"
      ],
      "metadata": {
        "id": "HNbmWVs142_m"
      },
      "execution_count": null,
      "outputs": []
    },
    {
      "cell_type": "code",
      "source": [
        "upper_bound = int(np.mean(seq_lengths) + 2 * np.std(seq_lengths))\n",
        "percentage = stats.percentileofscore(seq_lengths, upper_bound)\n",
        "\n",
        "print('The value of upper_bound is %d and the percentage of sequences in \"text_train_tokens\" \\\n",
        "of length smaller or equal than upper_bound is %.2f%%.' % (upper_bound, round(percentage, 2)))\n",
        "\n",
        "# Histogram plot of the lengths of the sequences in \"text_train_tokens\"\n",
        "\n",
        "with sns.axes_style(\"darkgrid\"):\n",
        "\n",
        "    _, hist = plt.subplots(figsize=(15,6))\n",
        "    hist.hist(seq_lengths[seq_lengths < 2*upper_bound], color='darkblue', bins=40, rwidth=0.7)\n",
        "    hist.axvline(np.mean(seq_lengths), color='darkorange', linestyle='--', label='Mean value')\n",
        "    hist.axvline(upper_bound, color='r', linestyle='--', label='Upper bound')\n",
        "\n",
        "    plt.xlabel('Length of sequences in \"text_train_tokens\"', size='large')\n",
        "    plt.ylabel('Number of samples', size='large')\n",
        "    plt.text(upper_bound, 0, 'test')\n",
        "    plt.legend(fontsize='large', facecolor='palegreen')\n",
        "    plt.xticks(rotation=30)\n",
        "    plt.show()"
      ],
      "metadata": {
        "colab": {
          "base_uri": "https://localhost:8080/",
          "height": 574
        },
        "id": "7G23t8gK5UeO",
        "outputId": "1cd2d27c-0bda-4af2-e247-abcd4a180e75"
      },
      "execution_count": null,
      "outputs": [
        {
          "output_type": "stream",
          "name": "stdout",
          "text": [
            "The value of upper_bound is 184 and the percentage of sequences in \"text_train_tokens\" of length smaller or equal than upper_bound is 96.32%.\n"
          ]
        },
        {
          "output_type": "display_data",
          "data": {
            "text/plain": [
              "<Figure size 1500x600 with 1 Axes>"
            ],
            "image/png": "[encoded data removed]"
          },
          "metadata": {}
        }
      ]
    },
    {
      "cell_type": "markdown",
      "source": [
        "#### Adding Padding"
      ],
      "metadata": {
        "id": "KnGTKXGk590h"
      }
    },
    {
      "cell_type": "code",
      "source": [
        "text_train_pad = pad_sequences(text_train_tokens, maxlen=upper_bound)\n",
        "text_validation_pad = pad_sequences(text_validation_tokens, maxlen=upper_bound)\n",
        "utext_train_pad = pad_sequences(utext_train_tokens, maxlen=upper_bound)\n",
        "utext_validation_pad = pad_sequences(utext_validation_tokens, maxlen=upper_bound)\n",
        "\n",
        "print('\\033[1m' + 'text_train_pad.shape:' + '\\033[0m', text_train_pad.shape)\n",
        "print('\\033[1m' + 'text_validation_pad.shape:' + '\\033[0m', text_validation_pad.shape, '\\n')\n",
        "\n",
        "# Printing an example of review after padding\n",
        "idx_pad = random.randint(0, len(text_train_pad)-1)\n",
        "print('\\033[1m' + 'Review #%d after padding:' %idx_pad + '\\033[0m' + '\\n', text_train_pad[idx_pad])"
      ],
      "metadata": {
        "colab": {
          "base_uri": "https://localhost:8080/"
        },
        "id": "SY02g5hd5kO0",
        "outputId": "c3f15b8d-a23d-4822-f508-221c24cd8f6b"
      },
      "execution_count": null,
      "outputs": [
        {
          "output_type": "stream",
          "name": "stdout",
          "text": [
            "\u001b[1mtext_train_pad.shape:\u001b[0m (671155, 184)\n",
            "\u001b[1mtext_validation_pad.shape:\u001b[0m (167789, 184) \n",
            "\n",
            "\u001b[1mReview #464196 after padding:\u001b[0m\n",
            " [    0     0     0     0     0     0     0     0     0     0     0     0\n",
            "     0     0     0     0     0     0     0     0     0     0     0     0\n",
            "     0     0     0     0     0     0     0     0     0     0     0     0\n",
            "     0     0     0     0     0     0     0     0     0     0     0     0\n",
            "     0     0     0     0     0     0     0     0     0     0     0     0\n",
            "     0     0     0     0     0     0     0     0     0     0     0     0\n",
            "     0     0     0     0     0     0     0     0     0     0     0     0\n",
            "     0     0     0     0     0     0     0     0     0     0     0     0\n",
            "     0     0     0     0     0     0     0     0     0     0     0     0\n",
            "     0     0     0     0     0     0     0     0     0     0     0     0\n",
            "     0     0     0     0     0     0     0     0     0     0     0     0\n",
            "     0     0     0     0     0     0     0     0     0     0     0     0\n",
            "     0     0     0     0     0     0     0     0     0     0     0     0\n",
            "     0     0  1023  1426  1558   727   110   320   311  1908   508 15761\n",
            "  6828  1026   730  9855     1   114   740     7  6037  2405   848   537\n",
            "   557   826  4631    28]\n"
          ]
        }
      ]
    },
    {
      "cell_type": "markdown",
      "source": [
        "#### Label Encoding"
      ],
      "metadata": {
        "id": "HlFFPHrx78GG"
      }
    },
    {
      "cell_type": "markdown",
      "source": [
        "##### Chaning Label Range\n",
        "from [1, 5] to [0, 4]"
      ],
      "metadata": {
        "id": "Fx9dhRkUFbkZ"
      }
    },
    {
      "cell_type": "code",
      "source": [
        "target_train = target_train.progress_apply(lambda l: l-1)\n",
        "target_validation = target_validation.progress_apply(lambda l: l-1)\n",
        "utarget_train = utarget_train.progress_apply(lambda l: l-1)\n",
        "utarget_validation = utarget_validation.progress_apply(lambda l: l-1)"
      ],
      "metadata": {
        "colab": {
          "base_uri": "https://localhost:8080/"
        },
        "id": "fKYCP2D5EnK_",
        "outputId": "68950c74-5ba0-4c10-b180-bbe18fbaa4b8"
      },
      "execution_count": null,
      "outputs": [
        {
          "output_type": "stream",
          "name": "stderr",
          "text": [
            "100%|██████████| 671155/671155 [00:01<00:00, 523174.56it/s]\n",
            "100%|██████████| 167789/167789 [00:00<00:00, 521043.30it/s]\n",
            "100%|██████████| 220000/220000 [00:00<00:00, 516460.40it/s]\n",
            "100%|██████████| 55000/55000 [00:00<00:00, 466770.24it/s]\n"
          ]
        }
      ]
    },
    {
      "cell_type": "code",
      "source": [
        "one_hot_encoder = OneHotEncoder(sparse_output=False)\n",
        "\n",
        "train_labels_one_hot = one_hot_encoder.fit_transform(target_train.to_numpy().reshape(-1, 1))\n",
        "val_labels_one_hot = one_hot_encoder.transform(target_validation.to_numpy().reshape(-1, 1))"
      ],
      "metadata": {
        "id": "b6gStJs_77Q_"
      },
      "execution_count": null,
      "outputs": []
    },
    {
      "cell_type": "code",
      "source": [
        "one_hot_encoder = OneHotEncoder(sparse_output=False)\n",
        "\n",
        "utrain_labels_one_hot = one_hot_encoder.fit_transform(utarget_train.to_numpy().reshape(-1, 1))\n",
        "uval_labels_one_hot = one_hot_encoder.transform(utarget_validation.to_numpy().reshape(-1, 1))"
      ],
      "metadata": {
        "id": "lHKBhV5d8APl"
      },
      "execution_count": null,
      "outputs": []
    },
    {
      "cell_type": "markdown",
      "source": [
        "#### Tensorflow Dataset"
      ],
      "metadata": {
        "id": "dCrSBWRb70g_"
      }
    },
    {
      "cell_type": "code",
      "source": [
        "train_dataset = tf.data.Dataset.from_tensor_slices((text_train, train_labels_one_hot))\n",
        "valid_dataset = tf.data.Dataset.from_tensor_slices((text_validation, val_labels_one_hot))\n",
        "utrain_dataset = tf.data.Dataset.from_tensor_slices((utext_train, utrain_labels_one_hot))\n",
        "uvalid_dataset = tf.data.Dataset.from_tensor_slices((utext_validation, uval_labels_one_hot))\n",
        "\n",
        "train_dataset = train_dataset.batch(32).prefetch(tf.data.AUTOTUNE)\n",
        "valid_dataset = valid_dataset.batch(32).prefetch(tf.data.AUTOTUNE)\n",
        "utrain_dataset = utrain_dataset.batch(32).prefetch(tf.data.AUTOTUNE)\n",
        "uvalid_dataset = uvalid_dataset.batch(32).prefetch(tf.data.AUTOTUNE)"
      ],
      "metadata": {
        "id": "IlSic-IzBv8N"
      },
      "execution_count": null,
      "outputs": []
    },
    {
      "cell_type": "markdown",
      "source": [
        "### Model 2: Pretrained Token Embeddings"
      ],
      "metadata": {
        "id": "UZhGIkXDBO5i"
      }
    },
    {
      "cell_type": "markdown",
      "source": [
        "#### Model"
      ],
      "metadata": {
        "id": "dMrDHsrJDLhR"
      }
    },
    {
      "cell_type": "code",
      "source": [
        "import tensorflow_hub as hub\n",
        "tf_hub_embedding_layer = hub.KerasLayer(\"https://tfhub.dev/google/universal-sentence-encoder/4\",\n",
        "                                        trainable=False,\n",
        "                                        name=\"universal_sentence_encoder\")"
      ],
      "metadata": {
        "id": "qlegRP6V-RKb"
      },
      "execution_count": null,
      "outputs": []
    },
    {
      "cell_type": "code",
      "source": [
        "# Test out the embedding on a random sentence\n",
        "random_training_sentence = random.choice(text_train)\n",
        "print(f\"Random training sentence:\\n{random_training_sentence}\\n\")\n",
        "use_embedded_sentence = tf_hub_embedding_layer([random_training_sentence])\n",
        "print(f\"Sentence after embedding:\\n{use_embedded_sentence[0][:30]} (truncated output)...\\n\")\n",
        "print(f\"Length of sentence embedding:\\n{len(use_embedded_sentence[0])}\")"
      ],
      "metadata": {
        "colab": {
          "base_uri": "https://localhost:8080/"
        },
        "id": "xFy1ewuTBKwb",
        "outputId": "efe6111d-8af9-4e2f-821d-f2b01f6b3d08"
      },
      "execution_count": null,
      "outputs": [
        {
          "output_type": "stream",
          "name": "stdout",
          "text": [
            "Random training sentence:\n",
            "device works great paired three devices iphone ipad android phone easy switch devices remember number assigned chose via likeliness need type via keyboard device one complaint weight thought would weigh much less guessing counter balance weight tablet holder\n",
            "\n",
            "Sentence after embedding:\n",
            "[-0.06809349 -0.01822367 -0.05056971  0.02026556  0.06920361 -0.00238356\n",
            "  0.05090966 -0.02076915  0.0196671  -0.01750088 -0.01535495 -0.04256458\n",
            "  0.03409055  0.01767218 -0.07253649  0.0562178   0.02134928  0.00444535\n",
            " -0.01349217  0.04228682  0.0363973   0.00485974 -0.01722044 -0.04530314\n",
            "  0.02928058  0.07277907  0.01660049  0.04730983 -0.01562409 -0.03113249] (truncated output)...\n",
            "\n",
            "Length of sentence embedding:\n",
            "512\n"
          ]
        }
      ]
    },
    {
      "cell_type": "code",
      "source": [
        "def model_2():\n",
        "  inputs = layers.Input(shape=[], dtype=tf.string)\n",
        "  pretrained_embedding = tf_hub_embedding_layer(inputs)\n",
        "  x = layers.Dense(128, activation=\"relu\")(pretrained_embedding)\n",
        "  outputs = layers.Dense(5, activation=\"softmax\")(x)\n",
        "  model_2 = tf.keras.Model(inputs=inputs,\n",
        "                          outputs=outputs)\n",
        "\n",
        "  model_2.compile(loss=\"categorical_crossentropy\",\n",
        "                  optimizer=tf.keras.optimizers.Adam(),\n",
        "                  metrics=[\"accuracy\"])\n",
        "  return model_2"
      ],
      "metadata": {
        "id": "uwFZFR4zBZ8j"
      },
      "execution_count": null,
      "outputs": []
    },
    {
      "cell_type": "code",
      "source": [
        "model_2().summary()"
      ],
      "metadata": {
        "colab": {
          "base_uri": "https://localhost:8080/"
        },
        "id": "czujbljiBk0r",
        "outputId": "9a41d292-8acc-46ca-dbb4-603f11d16e05"
      },
      "execution_count": null,
      "outputs": [
        {
          "output_type": "stream",
          "name": "stdout",
          "text": [
            "Model: \"model_13\"\n",
            "_________________________________________________________________\n",
            " Layer (type)                Output Shape              Param #   \n",
            "=================================================================\n",
            " input_15 (InputLayer)       [(None,)]                 0         \n",
            "                                                                 \n",
            " universal_sentence_encoder  (None, 512)               256797824 \n",
            "  (KerasLayer)                                                   \n",
            "                                                                 \n",
            " dense_25 (Dense)            (None, 128)               65664     \n",
            "                                                                 \n",
            " dense_26 (Dense)            (None, 5)                 645       \n",
            "                                                                 \n",
            "=================================================================\n",
            "Total params: 256864133 (979.86 MB)\n",
            "Trainable params: 66309 (259.02 KB)\n",
            "Non-trainable params: 256797824 (979.61 MB)\n",
            "_________________________________________________________________\n"
          ]
        }
      ]
    },
    {
      "cell_type": "markdown",
      "source": [
        "#### Base Data"
      ],
      "metadata": {
        "id": "daAw3fL8DNSX"
      }
    },
    {
      "cell_type": "code",
      "source": [
        "model_2_base = model_2()"
      ],
      "metadata": {
        "id": "BUk7EaNzOWxi"
      },
      "execution_count": null,
      "outputs": []
    },
    {
      "cell_type": "code",
      "source": [
        "model_2_base.fit(train_dataset,\n",
        "            steps_per_epoch=int(0.3 * len(train_dataset)),\n",
        "            epochs=3,\n",
        "            validation_data=valid_dataset,\n",
        "            validation_steps=int(0.3 * len(valid_dataset)))"
      ],
      "metadata": {
        "colab": {
          "base_uri": "https://localhost:8080/"
        },
        "id": "m803jybjBmrc",
        "outputId": "faeff865-bcd0-4515-a362-32b2531553ee"
      },
      "execution_count": null,
      "outputs": [
        {
          "output_type": "stream",
          "name": "stdout",
          "text": [
            "Epoch 1/3\n",
            "6292/6292 [==============================] - 179s 28ms/step - loss: 1.0228 - accuracy: 0.6043 - val_loss: 0.9969 - val_accuracy: 0.6130\n",
            "Epoch 2/3\n",
            "6292/6292 [==============================] - 169s 27ms/step - loss: 0.9950 - accuracy: 0.6126 - val_loss: 0.9833 - val_accuracy: 0.6195\n",
            "Epoch 3/3\n",
            "6292/6292 [==============================] - 179s 29ms/step - loss: 0.9813 - accuracy: 0.6186 - val_loss: 0.9789 - val_accuracy: 0.6216\n"
          ]
        },
        {
          "output_type": "execute_result",
          "data": {
            "text/plain": [
              "<keras.src.callbacks.History at 0x7d3300196e00>"
            ]
          },
          "metadata": {},
          "execution_count": 144
        }
      ]
    },
    {
      "cell_type": "code",
      "source": [
        "model_2_pred_probs = model_2_base.predict(valid_dataset)\n",
        "model_2_preds = tf.argmax(model_2_pred_probs, axis=1)"
      ],
      "metadata": {
        "colab": {
          "base_uri": "https://localhost:8080/"
        },
        "id": "JUtbDt8pCKnx",
        "outputId": "31fd34e1-9828-4211-d23b-908153e6f61d"
      },
      "execution_count": null,
      "outputs": [
        {
          "output_type": "stream",
          "name": "stdout",
          "text": [
            "5244/5244 [==============================] - 107s 20ms/step\n"
          ]
        }
      ]
    },
    {
      "cell_type": "code",
      "source": [
        "model_2_cr = classification_report(target_validation, model_2_preds)\n",
        "print(model_2_cr)"
      ],
      "metadata": {
        "colab": {
          "base_uri": "https://localhost:8080/"
        },
        "id": "dOoIRspQDAIC",
        "outputId": "34f0e049-3488-4060-a835-0a76bd75bed7"
      },
      "execution_count": null,
      "outputs": [
        {
          "output_type": "stream",
          "name": "stdout",
          "text": [
            "              precision    recall  f1-score   support\n",
            "\n",
            "           0       0.50      0.62      0.55     16572\n",
            "           1       0.32      0.03      0.06     11347\n",
            "           2       0.29      0.19      0.23     16109\n",
            "           3       0.44      0.18      0.25     31292\n",
            "           4       0.69      0.92      0.79     92469\n",
            "\n",
            "    accuracy                           0.62    167789\n",
            "   macro avg       0.45      0.39      0.38    167789\n",
            "weighted avg       0.56      0.62      0.56    167789\n",
            "\n"
          ]
        }
      ]
    },
    {
      "cell_type": "markdown",
      "source": [
        "#### Undersampled Data"
      ],
      "metadata": {
        "id": "eRUp9lCtDFx6"
      }
    },
    {
      "cell_type": "code",
      "source": [
        "model_2_u = model_2()"
      ],
      "metadata": {
        "id": "bGLgPCfnOiSN"
      },
      "execution_count": null,
      "outputs": []
    },
    {
      "cell_type": "code",
      "source": [
        "model_2_u.fit(utrain_dataset,\n",
        "            steps_per_epoch=int(1 * len(utrain_dataset)),\n",
        "            epochs=3,\n",
        "            validation_data=valid_dataset,\n",
        "            validation_steps=int(1 * len(uvalid_dataset)))"
      ],
      "metadata": {
        "colab": {
          "base_uri": "https://localhost:8080/"
        },
        "id": "Nk7uinEeHDLx",
        "outputId": "35c6d021-2a86-4e66-8fd6-34488cd762ed"
      },
      "execution_count": null,
      "outputs": [
        {
          "output_type": "stream",
          "name": "stdout",
          "text": [
            "Epoch 1/3\n",
            "6875/6875 [==============================] - 192s 28ms/step - loss: 1.3114 - accuracy: 0.4260 - val_loss: 1.2414 - val_accuracy: 0.4944\n",
            "Epoch 2/3\n",
            "6875/6875 [==============================] - 180s 26ms/step - loss: 1.2752 - accuracy: 0.4449 - val_loss: 1.2107 - val_accuracy: 0.5076\n",
            "Epoch 3/3\n",
            "6875/6875 [==============================] - 181s 26ms/step - loss: 1.2552 - accuracy: 0.4548 - val_loss: 1.2023 - val_accuracy: 0.5089\n"
          ]
        },
        {
          "output_type": "execute_result",
          "data": {
            "text/plain": [
              "<keras.src.callbacks.History at 0x7d33188b71f0>"
            ]
          },
          "metadata": {},
          "execution_count": 212
        }
      ]
    },
    {
      "cell_type": "code",
      "source": [
        "umodel_2_pred_probs = model_2_u.predict(uvalid_dataset)\n",
        "umodel_2_preds = tf.argmax(umodel_2_pred_probs, axis=1)"
      ],
      "metadata": {
        "colab": {
          "base_uri": "https://localhost:8080/"
        },
        "id": "hGOVgYRRHKQk",
        "outputId": "8c9000a4-d54f-4a79-dca1-fef4e8775f46"
      },
      "execution_count": null,
      "outputs": [
        {
          "output_type": "stream",
          "name": "stdout",
          "text": [
            "1719/1719 [==============================] - 33s 19ms/step\n"
          ]
        }
      ]
    },
    {
      "cell_type": "code",
      "source": [
        "umodel_2_cr = classification_report(utarget_validation, umodel_2_preds)\n",
        "print(umodel_2_cr)"
      ],
      "metadata": {
        "colab": {
          "base_uri": "https://localhost:8080/"
        },
        "id": "qQ9P_863HNwh",
        "outputId": "93c3ef9d-a23b-48b1-c76c-526988918785"
      },
      "execution_count": null,
      "outputs": [
        {
          "output_type": "stream",
          "name": "stdout",
          "text": [
            "              precision    recall  f1-score   support\n",
            "\n",
            "           0       0.53      0.63      0.57     10965\n",
            "           1       0.37      0.24      0.29     10863\n",
            "           2       0.34      0.39      0.36     11057\n",
            "           3       0.40      0.40      0.40     10974\n",
            "           4       0.56      0.57      0.57     11141\n",
            "\n",
            "    accuracy                           0.45     55000\n",
            "   macro avg       0.44      0.45      0.44     55000\n",
            "weighted avg       0.44      0.45      0.44     55000\n",
            "\n"
          ]
        }
      ]
    },
    {
      "cell_type": "markdown",
      "source": [
        "### Model 3: Using LSTM Layer"
      ],
      "metadata": {
        "id": "weThEF31Hbpc"
      }
    },
    {
      "cell_type": "code",
      "source": [
        "import tensorflow as tf\n",
        "from keras.models import Sequential\n",
        "from keras.layers import Embedding , LSTM , Dense , SpatialDropout1D\n",
        "from keras.preprocessing.text import Tokenizer\n",
        "from keras.preprocessing.sequence import pad_sequences\n",
        "from keras.metrics import F1Score\n"
      ],
      "metadata": {
        "id": "YJC3PQWrbqYB"
      },
      "execution_count": 30,
      "outputs": []
    },
    {
      "cell_type": "code",
      "source": [
        "df['overall'] = df['overall'].progress_apply(lambda l: l-1)"
      ],
      "metadata": {
        "colab": {
          "base_uri": "https://localhost:8080/"
        },
        "id": "mV4t-vOfa8vi",
        "outputId": "0a1f66b1-0f0c-4705-ed6f-15a6fa186705"
      },
      "execution_count": 26,
      "outputs": [
        {
          "output_type": "stream",
          "name": "stderr",
          "text": [
            "100%|██████████| 838944/838944 [00:01<00:00, 474131.15it/s]\n"
          ]
        }
      ]
    },
    {
      "cell_type": "code",
      "source": [
        "udf['label'] = udf['label'].progress_apply(lambda l: l-1)"
      ],
      "metadata": {
        "colab": {
          "base_uri": "https://localhost:8080/"
        },
        "id": "-g4cRwo_bj1K",
        "outputId": "d91473bc-229f-45b8-efc8-5668a9abe2c7"
      },
      "execution_count": 29,
      "outputs": [
        {
          "output_type": "stream",
          "name": "stderr",
          "text": [
            "100%|██████████| 275000/275000 [00:00<00:00, 281312.78it/s]\n"
          ]
        }
      ]
    },
    {
      "cell_type": "code",
      "source": [
        "def model_3():\n",
        "  model = Sequential()\n",
        "  model.add(Embedding(input_dim = max_words , output_dim = 128 , input_length= max_len))\n",
        "  model.add(SpatialDropout1D(0.2))\n",
        "  model.add(LSTM(100))\n",
        "  model.add(Dense(5 , activation = 'softmax'))\n",
        "\n",
        "  model.compile(optimizer = 'adam' , loss = 'categorical_crossentropy' , metrics = [F1Score(average = 'micro')])\n",
        "\n",
        "  return model"
      ],
      "metadata": {
        "id": "Ny-yifqXbvmx"
      },
      "execution_count": 35,
      "outputs": []
    },
    {
      "cell_type": "markdown",
      "source": [
        "#### Base"
      ],
      "metadata": {
        "id": "-OhLPj3Pbtrh"
      }
    },
    {
      "cell_type": "code",
      "source": [
        "texts = df['reviewText']\n",
        "labels = df['overall']\n",
        "\n",
        "max_words = 1000\n",
        "max_len = 200\n",
        "tokenizer = Tokenizer(num_words = max_words, oov_token = '')\n",
        "tokenizer.fit_on_texts(texts)\n",
        "sequences = tokenizer.texts_to_sequences(texts)\n",
        "padded_sequences = pad_sequences(sequences, maxlen = max_len, padding='post', truncating='post')\n",
        "\n",
        "labels_categorical = tf.keras.utils.to_categorical(labels)\n",
        "\n",
        "X_train, X_validation, y_train, y_validation = train_test_split(padded_sequences, labels_categorical, test_size = 0.2, random_state = 42)"
      ],
      "metadata": {
        "id": "a9O7LCIGTEOe"
      },
      "execution_count": 33,
      "outputs": []
    },
    {
      "cell_type": "code",
      "source": [
        "model_3_base = model_3()\n",
        "model_3_base.fit(X_train, y_train, epochs = 10, batch_size = 32, validation_data = (X_validation, y_validation))"
      ],
      "metadata": {
        "colab": {
          "base_uri": "https://localhost:8080/"
        },
        "id": "p4BZnBeLcy2U",
        "outputId": "09e54f6b-8877-4b1d-85b3-f683c696bb52"
      },
      "execution_count": 36,
      "outputs": [
        {
          "output_type": "stream",
          "name": "stdout",
          "text": [
            "Epoch 1/10\n",
            "20974/20974 [==============================] - 298s 14ms/step - loss: 1.0445 - f1_score: 0.6084 - val_loss: 0.8095 - val_f1_score: 0.6814\n",
            "Epoch 2/10\n",
            "20974/20974 [==============================] - 293s 14ms/step - loss: 0.7759 - f1_score: 0.6924 - val_loss: 0.7503 - val_f1_score: 0.7040\n",
            "Epoch 3/10\n",
            "20974/20974 [==============================] - 250s 12ms/step - loss: 0.7323 - f1_score: 0.7089 - val_loss: 0.7189 - val_f1_score: 0.7151\n",
            "Epoch 4/10\n",
            "20974/20974 [==============================] - 249s 12ms/step - loss: 0.7110 - f1_score: 0.7162 - val_loss: 0.7172 - val_f1_score: 0.7165\n",
            "Epoch 5/10\n",
            "20974/20974 [==============================] - 265s 13ms/step - loss: 0.6972 - f1_score: 0.7214 - val_loss: 0.7052 - val_f1_score: 0.7184\n",
            "Epoch 6/10\n",
            "20974/20974 [==============================] - 283s 14ms/step - loss: 0.6881 - f1_score: 0.7244 - val_loss: 0.7007 - val_f1_score: 0.7211\n",
            "Epoch 7/10\n",
            "20974/20974 [==============================] - 264s 13ms/step - loss: 0.6808 - f1_score: 0.7276 - val_loss: 0.6965 - val_f1_score: 0.7235\n",
            "Epoch 8/10\n",
            "20974/20974 [==============================] - 265s 13ms/step - loss: 0.6753 - f1_score: 0.7295 - val_loss: 0.7009 - val_f1_score: 0.7232\n",
            "Epoch 9/10\n",
            "20974/20974 [==============================] - 247s 12ms/step - loss: 0.6714 - f1_score: 0.7310 - val_loss: 0.6958 - val_f1_score: 0.7245\n",
            "Epoch 10/10\n",
            "20974/20974 [==============================] - 270s 13ms/step - loss: 0.6683 - f1_score: 0.7321 - val_loss: 0.6960 - val_f1_score: 0.7222\n"
          ]
        },
        {
          "output_type": "execute_result",
          "data": {
            "text/plain": [
              "<keras.src.callbacks.History at 0x78630242edd0>"
            ]
          },
          "metadata": {},
          "execution_count": 36
        }
      ]
    },
    {
      "cell_type": "code",
      "source": [
        "model_3_pred_probs = model_3_base.predict(X_validation)\n",
        "model_3_preds = tf.argmax(model_3_pred_probs, axis=1)"
      ],
      "metadata": {
        "colab": {
          "base_uri": "https://localhost:8080/"
        },
        "id": "m4ZILlSWcX3B",
        "outputId": "903117ef-4a3d-4dec-c1d3-f7b4c0356d00"
      },
      "execution_count": 40,
      "outputs": [
        {
          "output_type": "stream",
          "name": "stdout",
          "text": [
            "5244/5244 [==============================] - 25s 4ms/step\n"
          ]
        }
      ]
    },
    {
      "cell_type": "code",
      "source": [
        "model_3_cr = classification_report(tf.argmax(y_validation, axis=1), model_3_preds)\n",
        "print(model_3_cr)"
      ],
      "metadata": {
        "colab": {
          "base_uri": "https://localhost:8080/"
        },
        "id": "5x04qk4EccSx",
        "outputId": "cb459c4e-6c0c-454b-9a52-1c83895aebd8"
      },
      "execution_count": 43,
      "outputs": [
        {
          "output_type": "stream",
          "name": "stdout",
          "text": [
            "              precision    recall  f1-score   support\n",
            "\n",
            "           0       0.59      0.78      0.67     16572\n",
            "           1       0.43      0.26      0.32     11347\n",
            "           2       0.47      0.40      0.43     16109\n",
            "           3       0.60      0.45      0.52     31292\n",
            "           4       0.83      0.92      0.87     92469\n",
            "\n",
            "    accuracy                           0.72    167789\n",
            "   macro avg       0.59      0.56      0.56    167789\n",
            "weighted avg       0.70      0.72      0.71    167789\n",
            "\n"
          ]
        }
      ]
    },
    {
      "cell_type": "code",
      "source": [
        "model_3_base.save(\"/content/drive/MyDrive/Data/quera/LSTM_base_unprocessed\")"
      ],
      "metadata": {
        "id": "P4qmg1ntfMoS"
      },
      "execution_count": 39,
      "outputs": []
    },
    {
      "cell_type": "markdown",
      "source": [
        "#### Undersmapled Data"
      ],
      "metadata": {
        "id": "k7nrVMP_ZhhL"
      }
    },
    {
      "cell_type": "code",
      "source": [
        "texts = udf['reviewText']\n",
        "labels = udf['label']\n",
        "\n",
        "max_words = 1000\n",
        "max_len = 200\n",
        "tokenizer = Tokenizer(num_words = max_words, oov_token = '')\n",
        "tokenizer.fit_on_texts(texts)\n",
        "sequences = tokenizer.texts_to_sequences(texts)\n",
        "padded_sequences = pad_sequences(sequences, maxlen = max_len, padding='post', truncating='post')\n",
        "\n",
        "labels_categorical = tf.keras.utils.to_categorical(labels)\n",
        "\n",
        "X_train, X_validation, y_train, y_validation = train_test_split(padded_sequences, labels_categorical, test_size = 0.2, random_state = 42)"
      ],
      "metadata": {
        "id": "ppGBMOzAcB57"
      },
      "execution_count": 44,
      "outputs": []
    },
    {
      "cell_type": "code",
      "source": [
        "model_3_u = model_3()\n",
        "model_3_u.fit(X_train, y_train, epochs = 10, batch_size = 32, validation_data = (X_validation, y_validation))"
      ],
      "metadata": {
        "colab": {
          "base_uri": "https://localhost:8080/"
        },
        "id": "ivZxGKardSvV",
        "outputId": "61743d2d-c91d-4d93-800b-0877eb68036c"
      },
      "execution_count": 45,
      "outputs": [
        {
          "output_type": "stream",
          "name": "stdout",
          "text": [
            "Epoch 1/10\n",
            "6875/6875 [==============================] - 107s 15ms/step - loss: 1.5861 - f1_score: 0.2359 - val_loss: 1.3665 - val_f1_score: 0.3563\n",
            "Epoch 2/10\n",
            "6875/6875 [==============================] - 92s 13ms/step - loss: 1.2080 - f1_score: 0.4618 - val_loss: 1.1048 - val_f1_score: 0.5262\n",
            "Epoch 3/10\n",
            "6875/6875 [==============================] - 84s 12ms/step - loss: 1.0788 - f1_score: 0.5333 - val_loss: 1.0468 - val_f1_score: 0.5492\n",
            "Epoch 4/10\n",
            "6875/6875 [==============================] - 109s 16ms/step - loss: 1.0309 - f1_score: 0.5573 - val_loss: 1.0268 - val_f1_score: 0.5568\n",
            "Epoch 5/10\n",
            "6875/6875 [==============================] - 86s 13ms/step - loss: 0.9987 - f1_score: 0.5699 - val_loss: 1.0064 - val_f1_score: 0.5668\n",
            "Epoch 6/10\n",
            "6875/6875 [==============================] - 84s 12ms/step - loss: 0.9734 - f1_score: 0.5813 - val_loss: 1.0003 - val_f1_score: 0.5724\n",
            "Epoch 7/10\n",
            "6875/6875 [==============================] - 80s 12ms/step - loss: 0.9531 - f1_score: 0.5902 - val_loss: 0.9943 - val_f1_score: 0.5751\n",
            "Epoch 8/10\n",
            "6875/6875 [==============================] - 111s 16ms/step - loss: 0.9364 - f1_score: 0.5971 - val_loss: 0.9913 - val_f1_score: 0.5739\n",
            "Epoch 9/10\n",
            "6875/6875 [==============================] - 84s 12ms/step - loss: 0.9223 - f1_score: 0.6030 - val_loss: 0.9911 - val_f1_score: 0.5743\n",
            "Epoch 10/10\n",
            "6875/6875 [==============================] - 89s 13ms/step - loss: 0.9080 - f1_score: 0.6090 - val_loss: 0.9892 - val_f1_score: 0.5757\n"
          ]
        },
        {
          "output_type": "execute_result",
          "data": {
            "text/plain": [
              "<keras.src.callbacks.History at 0x786202b329b0>"
            ]
          },
          "metadata": {},
          "execution_count": 45
        }
      ]
    },
    {
      "cell_type": "code",
      "source": [
        "model_3_u.save(\"/content/drive/MyDrive/Data/quera/LSTM_u_unprocessed\")"
      ],
      "metadata": {
        "id": "KPoAQcZ7fnOy"
      },
      "execution_count": 46,
      "outputs": []
    },
    {
      "cell_type": "code",
      "source": [
        "umodel_3_pred_probs = model_3_u.predict(X_validation)\n",
        "umodel_3_preds = tf.argmax(umodel_3_pred_probs, axis=1)"
      ],
      "metadata": {
        "colab": {
          "base_uri": "https://localhost:8080/"
        },
        "id": "8G44EgcMrcvE",
        "outputId": "00c1b65d-1778-42bd-bda9-2316d3384531"
      },
      "execution_count": 50,
      "outputs": [
        {
          "output_type": "stream",
          "name": "stdout",
          "text": [
            "1719/1719 [==============================] - 12s 7ms/step\n"
          ]
        }
      ]
    },
    {
      "cell_type": "code",
      "source": [
        "umodel_3_cr = classification_report(tf.argmax(y_validation, axis=1), umodel_3_preds)\n",
        "print(umodel_3_cr)"
      ],
      "metadata": {
        "colab": {
          "base_uri": "https://localhost:8080/"
        },
        "id": "yskyfu4sroPs",
        "outputId": "5d53d07b-2902-4244-d052-0f8d8c6d7f02"
      },
      "execution_count": 51,
      "outputs": [
        {
          "output_type": "stream",
          "name": "stdout",
          "text": [
            "              precision    recall  f1-score   support\n",
            "\n",
            "           0       0.63      0.67      0.65     10965\n",
            "           1       0.46      0.46      0.46     10863\n",
            "           2       0.50      0.46      0.48     11057\n",
            "           3       0.57      0.53      0.55     10974\n",
            "           4       0.69      0.75      0.72     11141\n",
            "\n",
            "    accuracy                           0.58     55000\n",
            "   macro avg       0.57      0.58      0.57     55000\n",
            "weighted avg       0.57      0.58      0.57     55000\n",
            "\n"
          ]
        }
      ]
    },
    {
      "cell_type": "markdown",
      "source": [
        "#### Processing Data"
      ],
      "metadata": {
        "id": "V3LDnGwjowKS"
      }
    },
    {
      "cell_type": "code",
      "source": [
        "def process(x):\n",
        "    x = re.sub('[,\\.!?:()\"]', '', x)\n",
        "    x = re.sub('<.*?>', ' ', x)\n",
        "    x = re.sub('http\\S+', ' ', x)\n",
        "    x = re.sub('[^a-zA-Z0-9]', ' ', x)\n",
        "    x = re.sub('\\s+', ' ', x)\n",
        "    x = re.sub('\\n+', ' ', x)\n",
        "    return x.lower().strip()\n",
        "\n",
        "sw_set = set(nltk.corpus.stopwords.words('english'))\n",
        "\n",
        "def sw_remove(x):\n",
        "    words = nltk.tokenize.word_tokenize(x)\n",
        "    filtered_list = [word for word in words if word not in sw_set]\n",
        "    return ' '.join(filtered_list)"
      ],
      "metadata": {
        "id": "061ElF6CqGQX"
      },
      "execution_count": 47,
      "outputs": []
    },
    {
      "cell_type": "code",
      "source": [
        "df['reviewText'] = df['reviewText'] .progress_apply(lambda x: process(x))\n",
        "df['reviewText'] = df['reviewText'].progress_apply(lambda x: sw_remove(x))\n",
        "\n",
        "udf['reviewText'] = udf['reviewText'] .progress_apply(lambda x: process(x))\n",
        "udf['reviewText'] = udf['reviewText'].progress_apply(lambda x: sw_remove(x))"
      ],
      "metadata": {
        "colab": {
          "base_uri": "https://localhost:8080/"
        },
        "id": "XA_YawQnqARN",
        "outputId": "5767e73f-3e3c-4bc7-d9b9-1019ba20f7ec"
      },
      "execution_count": 52,
      "outputs": [
        {
          "output_type": "stream",
          "name": "stderr",
          "text": [
            "100%|██████████| 838944/838944 [02:35<00:00, 5400.06it/s] \n",
            "100%|██████████| 838944/838944 [07:46<00:00, 1796.97it/s]\n",
            "100%|██████████| 275000/275000 [00:50<00:00, 5403.11it/s] \n",
            "100%|██████████| 275000/275000 [02:57<00:00, 1551.22it/s]\n"
          ]
        }
      ]
    },
    {
      "cell_type": "markdown",
      "source": [
        "#### Base Processed"
      ],
      "metadata": {
        "id": "Y4lDI5WjqOXo"
      }
    },
    {
      "cell_type": "code",
      "source": [
        "texts = df['reviewText']\n",
        "labels = df['overall']\n",
        "\n",
        "max_words = 1000\n",
        "max_len = 200\n",
        "tokenizer = Tokenizer(num_words = max_words, oov_token = '')\n",
        "tokenizer.fit_on_texts(texts)\n",
        "sequences = tokenizer.texts_to_sequences(texts)\n",
        "padded_sequences = pad_sequences(sequences, maxlen = max_len, padding='post', truncating='post')\n",
        "\n",
        "labels_categorical = tf.keras.utils.to_categorical(labels)\n",
        "\n",
        "X_train, X_validation, y_train, y_validation = train_test_split(padded_sequences, labels_categorical, test_size = 0.2, random_state = 42)"
      ],
      "metadata": {
        "id": "dmlIgqWWtE0N"
      },
      "execution_count": 53,
      "outputs": []
    },
    {
      "cell_type": "code",
      "source": [
        "model_3_base_processed = model_3()\n",
        "model_3_base_processed.fit(X_train, y_train, epochs = 4, batch_size = 32, validation_data = (X_validation, y_validation))"
      ],
      "metadata": {
        "colab": {
          "base_uri": "https://localhost:8080/"
        },
        "id": "Y1Xdj-Y-tN10",
        "outputId": "7de7ad8b-6233-4fdb-cfdd-13016b3c86dd"
      },
      "execution_count": 55,
      "outputs": [
        {
          "output_type": "stream",
          "name": "stdout",
          "text": [
            "Epoch 1/4\n",
            "20974/20974 [==============================] - 317s 15ms/step - loss: 1.1157 - f1_score: 0.5901 - val_loss: 0.8954 - val_f1_score: 0.6558\n",
            "Epoch 2/4\n",
            "20974/20974 [==============================] - 286s 14ms/step - loss: 0.8626 - f1_score: 0.6651 - val_loss: 0.8388 - val_f1_score: 0.6744\n",
            "Epoch 3/4\n",
            "20974/20974 [==============================] - 288s 14ms/step - loss: 0.8269 - f1_score: 0.6790 - val_loss: 0.8143 - val_f1_score: 0.6830\n",
            "Epoch 4/4\n",
            "20974/20974 [==============================] - 319s 15ms/step - loss: 0.8066 - f1_score: 0.6864 - val_loss: 0.8042 - val_f1_score: 0.6876\n"
          ]
        },
        {
          "output_type": "execute_result",
          "data": {
            "text/plain": [
              "<keras.src.callbacks.History at 0x786308098d00>"
            ]
          },
          "metadata": {},
          "execution_count": 55
        }
      ]
    },
    {
      "cell_type": "code",
      "source": [
        "model_3_base_processed.save(\"/content/drive/MyDrive/Data/quera/LSTM_base_processed\")"
      ],
      "metadata": {
        "id": "l8RMFfQOwKFr"
      },
      "execution_count": 56,
      "outputs": []
    },
    {
      "cell_type": "code",
      "source": [
        "pmodel_3_pred_probs = model_3_base_processed.predict(X_validation)\n",
        "pmodel_3_preds = tf.argmax(pmodel_3_pred_probs, axis=1)"
      ],
      "metadata": {
        "colab": {
          "base_uri": "https://localhost:8080/"
        },
        "id": "QDOsC0oiwiOt",
        "outputId": "68e220fe-276d-4a5f-e4b0-e2131e75d8c1"
      },
      "execution_count": 57,
      "outputs": [
        {
          "output_type": "stream",
          "name": "stdout",
          "text": [
            "5244/5244 [==============================] - 26s 5ms/step\n"
          ]
        }
      ]
    },
    {
      "cell_type": "code",
      "source": [
        "pmodel_3_cr = classification_report(tf.argmax(y_validation, axis=1), pmodel_3_preds)\n",
        "print(pmodel_3_cr)"
      ],
      "metadata": {
        "colab": {
          "base_uri": "https://localhost:8080/"
        },
        "id": "7zxPByhOwtCX",
        "outputId": "aaf31993-66aa-4cfc-ae8d-1cde34ebbe41"
      },
      "execution_count": 58,
      "outputs": [
        {
          "output_type": "stream",
          "name": "stdout",
          "text": [
            "              precision    recall  f1-score   support\n",
            "\n",
            "           0       0.62      0.64      0.63     16572\n",
            "           1       0.43      0.19      0.27     11347\n",
            "           2       0.46      0.28      0.35     16109\n",
            "           3       0.57      0.39      0.46     31292\n",
            "           4       0.75      0.93      0.83     92469\n",
            "\n",
            "    accuracy                           0.69    167789\n",
            "   macro avg       0.57      0.49      0.51    167789\n",
            "weighted avg       0.65      0.69      0.66    167789\n",
            "\n"
          ]
        }
      ]
    },
    {
      "cell_type": "markdown",
      "source": [
        "## Test Prediction"
      ],
      "metadata": {
        "id": "yNuBtfTZu5IF"
      }
    },
    {
      "cell_type": "code",
      "source": [
        "!gdown 1-Cb-kBGlVW6PPX4bR7IeZyU1lB0WoW2K"
      ],
      "metadata": {
        "colab": {
          "base_uri": "https://localhost:8080/"
        },
        "id": "d6ASW4uk9Ct3",
        "outputId": "b792753f-92e3-40c2-bda3-eebc5b021a11"
      },
      "execution_count": 10,
      "outputs": [
        {
          "output_type": "stream",
          "name": "stdout",
          "text": [
            "Downloading...\n",
            "From: https://drive.google.com/uc?id=1-Cb-kBGlVW6PPX4bR7IeZyU1lB0WoW2K\n",
            "To: /content/test_data.csv\n",
            "100% 15.6M/15.6M [00:00<00:00, 108MB/s] \n"
          ]
        }
      ]
    },
    {
      "cell_type": "code",
      "source": [
        "test = pd.read_csv('test_data.csv')\n",
        "test = test['reviewText']\n",
        "test"
      ],
      "metadata": {
        "colab": {
          "base_uri": "https://localhost:8080/"
        },
        "id": "Jnj_Vl2o-mtY",
        "outputId": "8c3eab05-37e4-4591-bb31-f2d0cc84f1b2"
      },
      "execution_count": 15,
      "outputs": [
        {
          "output_type": "execute_result",
          "data": {
            "text/plain": [
              "0        The name and description of this device are mi...\n",
              "1        One of the molex connectors on the power suppl...\n",
              "2        Remote constantly disconnects/ Roku player fre...\n",
              "3        I purchased this 4 year protection plan for a ...\n",
              "4        I bought one of these and have regretted it ev...\n",
              "                               ...                        \n",
              "19995    I've just had it up and running for 3 days, bu...\n",
              "19996    Looking for high quality audio interconnect ca...\n",
              "19997    Perfect! Does exactly as told. The cable is a ...\n",
              "19998    I bought this for my dell latitude e6330. I wa...\n",
              "19999    <div id=\"video-block-R14LAKU3P9UVQP\" class=\"a-...\n",
              "Name: reviewText, Length: 20000, dtype: object"
            ]
          },
          "metadata": {},
          "execution_count": 15
        }
      ]
    },
    {
      "cell_type": "code",
      "source": [
        "max_words = 1000\n",
        "max_len = 200\n",
        "tokenizer = Tokenizer(num_words = max_words, oov_token = '')\n",
        "tokenizer.fit_on_texts(test)\n",
        "sequences = tokenizer.texts_to_sequences(test)\n",
        "padded_sequences = pad_sequences(sequences, maxlen = max_len, padding='post', truncating='post')"
      ],
      "metadata": {
        "id": "pRk7cwkr-XID"
      },
      "execution_count": 16,
      "outputs": []
    },
    {
      "cell_type": "code",
      "source": [
        "loaded_model = tf.keras.models.load_model('/content/drive/MyDrive/Data/quera/LSTM_base_unprocessed')"
      ],
      "metadata": {
        "id": "AhoNxql35gXR"
      },
      "execution_count": 19,
      "outputs": []
    },
    {
      "cell_type": "code",
      "source": [
        "loaded_model.summary()"
      ],
      "metadata": {
        "colab": {
          "base_uri": "https://localhost:8080/"
        },
        "id": "02qEaqA9_bLV",
        "outputId": "634c537b-d0de-4e74-91f9-53b9b8c9a24d"
      },
      "execution_count": 20,
      "outputs": [
        {
          "output_type": "stream",
          "name": "stdout",
          "text": [
            "Model: \"sequential_2\"\n",
            "_________________________________________________________________\n",
            " Layer (type)                Output Shape              Param #   \n",
            "=================================================================\n",
            " embedding_2 (Embedding)     (None, 200, 128)          128000    \n",
            "                                                                 \n",
            " spatial_dropout1d_2 (Spati  (None, 200, 128)          0         \n",
            " alDropout1D)                                                    \n",
            "                                                                 \n",
            " lstm_2 (LSTM)               (None, 100)               91600     \n",
            "                                                                 \n",
            " dense_2 (Dense)             (None, 5)                 505       \n",
            "                                                                 \n",
            "=================================================================\n",
            "Total params: 220105 (859.79 KB)\n",
            "Trainable params: 220105 (859.79 KB)\n",
            "Non-trainable params: 0 (0.00 Byte)\n",
            "_________________________________________________________________\n"
          ]
        }
      ]
    },
    {
      "cell_type": "code",
      "source": [
        "preds_probs = loaded_model.predict(padded_sequences)\n",
        "preds = tf.argmax(preds_probs, axis=1)\n",
        "preds"
      ],
      "metadata": {
        "colab": {
          "base_uri": "https://localhost:8080/"
        },
        "id": "UJBBKf-4_oOO",
        "outputId": "3d84b9c1-08bd-4ef1-b1bc-5c1973b46217"
      },
      "execution_count": 22,
      "outputs": [
        {
          "output_type": "stream",
          "name": "stdout",
          "text": [
            "625/625 [==============================] - 8s 4ms/step\n"
          ]
        },
        {
          "output_type": "execute_result",
          "data": {
            "text/plain": [
              "<tf.Tensor: shape=(20000,), dtype=int64, numpy=array([4, 2, 4, ..., 0, 4, 3])>"
            ]
          },
          "metadata": {},
          "execution_count": 22
        }
      ]
    },
    {
      "cell_type": "code",
      "source": [
        "preds_df = pd.DataFrame({'predicted': preds.numpy()})\n",
        "preds_df"
      ],
      "metadata": {
        "colab": {
          "base_uri": "https://localhost:8080/",
          "height": 423
        },
        "id": "f8ZcSS8C_1-n",
        "outputId": "f86fc9fa-03b8-47dd-d352-8a22e037728c"
      },
      "execution_count": 29,
      "outputs": [
        {
          "output_type": "execute_result",
          "data": {
            "text/plain": [
              "       predicted\n",
              "0              4\n",
              "1              2\n",
              "2              4\n",
              "3              4\n",
              "4              4\n",
              "...          ...\n",
              "19995          4\n",
              "19996          0\n",
              "19997          0\n",
              "19998          4\n",
              "19999          3\n",
              "\n",
              "[20000 rows x 1 columns]"
            ],
            "text/html": [
              "\n",
              "  <div id=\"df-98ecb0c4-3c2a-46d2-bbca-cc31214b3b5b\" class=\"colab-df-container\">\n",
              "    <div>\n",
              "<style scoped>\n",
              "    .dataframe tbody tr th:only-of-type {\n",
              "        vertical-align: middle;\n",
              "    }\n",
              "\n",
              "    .dataframe tbody tr th {\n",
              "        vertical-align: top;\n",
              "    }\n",
              "\n",
              "    .dataframe thead th {\n",
              "        text-align: right;\n",
              "    }\n",
              "</style>\n",
              "<table border=\"1\" class=\"dataframe\">\n",
              "  <thead>\n",
              "    <tr style=\"text-align: right;\">\n",
              "      <th></th>\n",
              "      <th>predicted</th>\n",
              "    </tr>\n",
              "  </thead>\n",
              "  <tbody>\n",
              "    <tr>\n",
              "      <th>0</th>\n",
              "      <td>4</td>\n",
              "    </tr>\n",
              "    <tr>\n",
              "      <th>1</th>\n",
              "      <td>2</td>\n",
              "    </tr>\n",
              "    <tr>\n",
              "      <th>2</th>\n",
              "      <td>4</td>\n",
              "    </tr>\n",
              "    <tr>\n",
              "      <th>3</th>\n",
              "      <td>4</td>\n",
              "    </tr>\n",
              "    <tr>\n",
              "      <th>4</th>\n",
              "      <td>4</td>\n",
              "    </tr>\n",
              "    <tr>\n",
              "      <th>...</th>\n",
              "      <td>...</td>\n",
              "    </tr>\n",
              "    <tr>\n",
              "      <th>19995</th>\n",
              "      <td>4</td>\n",
              "    </tr>\n",
              "    <tr>\n",
              "      <th>19996</th>\n",
              "      <td>0</td>\n",
              "    </tr>\n",
              "    <tr>\n",
              "      <th>19997</th>\n",
              "      <td>0</td>\n",
              "    </tr>\n",
              "    <tr>\n",
              "      <th>19998</th>\n",
              "      <td>4</td>\n",
              "    </tr>\n",
              "    <tr>\n",
              "      <th>19999</th>\n",
              "      <td>3</td>\n",
              "    </tr>\n",
              "  </tbody>\n",
              "</table>\n",
              "<p>20000 rows × 1 columns</p>\n",
              "</div>\n",
              "    <div class=\"colab-df-buttons\">\n",
              "\n",
              "  <div class=\"colab-df-container\">\n",
              "    <button class=\"colab-df-convert\" onclick=\"convertToInteractive('df-98ecb0c4-3c2a-46d2-bbca-cc31214b3b5b')\"\n",
              "            title=\"Convert this dataframe to an interactive table.\"\n",
              "            style=\"display:none;\">\n",
              "\n",
              "  <svg xmlns=\"http://www.w3.org/2000/svg\" height=\"24px\" viewBox=\"0 -960 960 960\">\n",
              "    <path d=\"M120-120v-720h720v720H120Zm60-500h600v-160H180v160Zm220 220h160v-160H400v160Zm0 220h160v-160H400v160ZM180-400h160v-160H180v160Zm440 0h160v-160H620v160ZM180-180h160v-160H180v160Zm440 0h160v-160H620v160Z\"/>\n",
              "  </svg>\n",
              "    </button>\n",
              "\n",
              "  <style>\n",
              "    .colab-df-container {\n",
              "      display:flex;\n",
              "      gap: 12px;\n",
              "    }\n",
              "\n",
              "    .colab-df-convert {\n",
              "      background-color: #E8F0FE;\n",
              "      border: none;\n",
              "      border-radius: 50%;\n",
              "      cursor: pointer;\n",
              "      display: none;\n",
              "      fill: #1967D2;\n",
              "      height: 32px;\n",
              "      padding: 0 0 0 0;\n",
              "      width: 32px;\n",
              "    }\n",
              "\n",
              "    .colab-df-convert:hover {\n",
              "      background-color: #E2EBFA;\n",
              "      box-shadow: 0px 1px 2px rgba(60, 64, 67, 0.3), 0px 1px 3px 1px rgba(60, 64, 67, 0.15);\n",
              "      fill: #174EA6;\n",
              "    }\n",
              "\n",
              "    .colab-df-buttons div {\n",
              "      margin-bottom: 4px;\n",
              "    }\n",
              "\n",
              "    [theme=dark] .colab-df-convert {\n",
              "      background-color: #3B4455;\n",
              "      fill: #D2E3FC;\n",
              "    }\n",
              "\n",
              "    [theme=dark] .colab-df-convert:hover {\n",
              "      background-color: #434B5C;\n",
              "      box-shadow: 0px 1px 3px 1px rgba(0, 0, 0, 0.15);\n",
              "      filter: drop-shadow(0px 1px 2px rgba(0, 0, 0, 0.3));\n",
              "      fill: #FFFFFF;\n",
              "    }\n",
              "  </style>\n",
              "\n",
              "    <script>\n",
              "      const buttonEl =\n",
              "        document.querySelector('#df-98ecb0c4-3c2a-46d2-bbca-cc31214b3b5b button.colab-df-convert');\n",
              "      buttonEl.style.display =\n",
              "        google.colab.kernel.accessAllowed ? 'block' : 'none';\n",
              "\n",
              "      async function convertToInteractive(key) {\n",
              "        const element = document.querySelector('#df-98ecb0c4-3c2a-46d2-bbca-cc31214b3b5b');\n",
              "        const dataTable =\n",
              "          await google.colab.kernel.invokeFunction('convertToInteractive',\n",
              "                                                    [key], {});\n",
              "        if (!dataTable) return;\n",
              "\n",
              "        const docLinkHtml = 'Like what you see? Visit the ' +\n",
              "          '<a target=\"_blank\" href=https://colab.research.google.com/notebooks/data_table.ipynb>data table notebook</a>'\n",
              "          + ' to learn more about interactive tables.';\n",
              "        element.innerHTML = '';\n",
              "        dataTable['output_type'] = 'display_data';\n",
              "        await google.colab.output.renderOutput(dataTable, element);\n",
              "        const docLink = document.createElement('div');\n",
              "        docLink.innerHTML = docLinkHtml;\n",
              "        element.appendChild(docLink);\n",
              "      }\n",
              "    </script>\n",
              "  </div>\n",
              "\n",
              "\n",
              "<div id=\"df-02e8a032-8312-479b-91dd-37b44a87652e\">\n",
              "  <button class=\"colab-df-quickchart\" onclick=\"quickchart('df-02e8a032-8312-479b-91dd-37b44a87652e')\"\n",
              "            title=\"Suggest charts\"\n",
              "            style=\"display:none;\">\n",
              "\n",
              "<svg xmlns=\"http://www.w3.org/2000/svg\" height=\"24px\"viewBox=\"0 0 24 24\"\n",
              "     width=\"24px\">\n",
              "    <g>\n",
              "        <path d=\"M19 3H5c-1.1 0-2 .9-2 2v14c0 1.1.9 2 2 2h14c1.1 0 2-.9 2-2V5c0-1.1-.9-2-2-2zM9 17H7v-7h2v7zm4 0h-2V7h2v10zm4 0h-2v-4h2v4z\"/>\n",
              "    </g>\n",
              "</svg>\n",
              "  </button>\n",
              "\n",
              "<style>\n",
              "  .colab-df-quickchart {\n",
              "      --bg-color: #E8F0FE;\n",
              "      --fill-color: #1967D2;\n",
              "      --hover-bg-color: #E2EBFA;\n",
              "      --hover-fill-color: #174EA6;\n",
              "      --disabled-fill-color: #AAA;\n",
              "      --disabled-bg-color: #DDD;\n",
              "  }\n",
              "\n",
              "  [theme=dark] .colab-df-quickchart {\n",
              "      --bg-color: #3B4455;\n",
              "      --fill-color: #D2E3FC;\n",
              "      --hover-bg-color: #434B5C;\n",
              "      --hover-fill-color: #FFFFFF;\n",
              "      --disabled-bg-color: #3B4455;\n",
              "      --disabled-fill-color: #666;\n",
              "  }\n",
              "\n",
              "  .colab-df-quickchart {\n",
              "    background-color: var(--bg-color);\n",
              "    border: none;\n",
              "    border-radius: 50%;\n",
              "    cursor: pointer;\n",
              "    display: none;\n",
              "    fill: var(--fill-color);\n",
              "    height: 32px;\n",
              "    padding: 0;\n",
              "    width: 32px;\n",
              "  }\n",
              "\n",
              "  .colab-df-quickchart:hover {\n",
              "    background-color: var(--hover-bg-color);\n",
              "    box-shadow: 0 1px 2px rgba(60, 64, 67, 0.3), 0 1px 3px 1px rgba(60, 64, 67, 0.15);\n",
              "    fill: var(--button-hover-fill-color);\n",
              "  }\n",
              "\n",
              "  .colab-df-quickchart-complete:disabled,\n",
              "  .colab-df-quickchart-complete:disabled:hover {\n",
              "    background-color: var(--disabled-bg-color);\n",
              "    fill: var(--disabled-fill-color);\n",
              "    box-shadow: none;\n",
              "  }\n",
              "\n",
              "  .colab-df-spinner {\n",
              "    border: 2px solid var(--fill-color);\n",
              "    border-color: transparent;\n",
              "    border-bottom-color: var(--fill-color);\n",
              "    animation:\n",
              "      spin 1s steps(1) infinite;\n",
              "  }\n",
              "\n",
              "  @keyframes spin {\n",
              "    0% {\n",
              "      border-color: transparent;\n",
              "      border-bottom-color: var(--fill-color);\n",
              "      border-left-color: var(--fill-color);\n",
              "    }\n",
              "    20% {\n",
              "      border-color: transparent;\n",
              "      border-left-color: var(--fill-color);\n",
              "      border-top-color: var(--fill-color);\n",
              "    }\n",
              "    30% {\n",
              "      border-color: transparent;\n",
              "      border-left-color: var(--fill-color);\n",
              "      border-top-color: var(--fill-color);\n",
              "      border-right-color: var(--fill-color);\n",
              "    }\n",
              "    40% {\n",
              "      border-color: transparent;\n",
              "      border-right-color: var(--fill-color);\n",
              "      border-top-color: var(--fill-color);\n",
              "    }\n",
              "    60% {\n",
              "      border-color: transparent;\n",
              "      border-right-color: var(--fill-color);\n",
              "    }\n",
              "    80% {\n",
              "      border-color: transparent;\n",
              "      border-right-color: var(--fill-color);\n",
              "      border-bottom-color: var(--fill-color);\n",
              "    }\n",
              "    90% {\n",
              "      border-color: transparent;\n",
              "      border-bottom-color: var(--fill-color);\n",
              "    }\n",
              "  }\n",
              "</style>\n",
              "\n",
              "  <script>\n",
              "    async function quickchart(key) {\n",
              "      const quickchartButtonEl =\n",
              "        document.querySelector('#' + key + ' button');\n",
              "      quickchartButtonEl.disabled = true;  // To prevent multiple clicks.\n",
              "      quickchartButtonEl.classList.add('colab-df-spinner');\n",
              "      try {\n",
              "        const charts = await google.colab.kernel.invokeFunction(\n",
              "            'suggestCharts', [key], {});\n",
              "      } catch (error) {\n",
              "        console.error('Error during call to suggestCharts:', error);\n",
              "      }\n",
              "      quickchartButtonEl.classList.remove('colab-df-spinner');\n",
              "      quickchartButtonEl.classList.add('colab-df-quickchart-complete');\n",
              "    }\n",
              "    (() => {\n",
              "      let quickchartButtonEl =\n",
              "        document.querySelector('#df-02e8a032-8312-479b-91dd-37b44a87652e button');\n",
              "      quickchartButtonEl.style.display =\n",
              "        google.colab.kernel.accessAllowed ? 'block' : 'none';\n",
              "    })();\n",
              "  </script>\n",
              "</div>\n",
              "    </div>\n",
              "  </div>\n"
            ]
          },
          "metadata": {},
          "execution_count": 29
        }
      ]
    },
    {
      "cell_type": "code",
      "source": [
        "preds_df['predicted'] = preds_df['predicted'].progress_apply(lambda l: l+1)\n",
        "preds_df"
      ],
      "metadata": {
        "colab": {
          "base_uri": "https://localhost:8080/",
          "height": 441
        },
        "id": "FjVF7cl0_-Av",
        "outputId": "6857b24c-999c-41c2-b18b-6ff68c23ab93"
      },
      "execution_count": 30,
      "outputs": [
        {
          "output_type": "stream",
          "name": "stderr",
          "text": [
            "100%|██████████| 20000/20000 [00:00<00:00, 504350.40it/s]\n"
          ]
        },
        {
          "output_type": "execute_result",
          "data": {
            "text/plain": [
              "       predicted\n",
              "0              5\n",
              "1              3\n",
              "2              5\n",
              "3              5\n",
              "4              5\n",
              "...          ...\n",
              "19995          5\n",
              "19996          1\n",
              "19997          1\n",
              "19998          5\n",
              "19999          4\n",
              "\n",
              "[20000 rows x 1 columns]"
            ],
            "text/html": [
              "\n",
              "  <div id=\"df-6e6fb44c-3e93-4b82-9c19-53b446d32c67\" class=\"colab-df-container\">\n",
              "    <div>\n",
              "<style scoped>\n",
              "    .dataframe tbody tr th:only-of-type {\n",
              "        vertical-align: middle;\n",
              "    }\n",
              "\n",
              "    .dataframe tbody tr th {\n",
              "        vertical-align: top;\n",
              "    }\n",
              "\n",
              "    .dataframe thead th {\n",
              "        text-align: right;\n",
              "    }\n",
              "</style>\n",
              "<table border=\"1\" class=\"dataframe\">\n",
              "  <thead>\n",
              "    <tr style=\"text-align: right;\">\n",
              "      <th></th>\n",
              "      <th>predicted</th>\n",
              "    </tr>\n",
              "  </thead>\n",
              "  <tbody>\n",
              "    <tr>\n",
              "      <th>0</th>\n",
              "      <td>5</td>\n",
              "    </tr>\n",
              "    <tr>\n",
              "      <th>1</th>\n",
              "      <td>3</td>\n",
              "    </tr>\n",
              "    <tr>\n",
              "      <th>2</th>\n",
              "      <td>5</td>\n",
              "    </tr>\n",
              "    <tr>\n",
              "      <th>3</th>\n",
              "      <td>5</td>\n",
              "    </tr>\n",
              "    <tr>\n",
              "      <th>4</th>\n",
              "      <td>5</td>\n",
              "    </tr>\n",
              "    <tr>\n",
              "      <th>...</th>\n",
              "      <td>...</td>\n",
              "    </tr>\n",
              "    <tr>\n",
              "      <th>19995</th>\n",
              "      <td>5</td>\n",
              "    </tr>\n",
              "    <tr>\n",
              "      <th>19996</th>\n",
              "      <td>1</td>\n",
              "    </tr>\n",
              "    <tr>\n",
              "      <th>19997</th>\n",
              "      <td>1</td>\n",
              "    </tr>\n",
              "    <tr>\n",
              "      <th>19998</th>\n",
              "      <td>5</td>\n",
              "    </tr>\n",
              "    <tr>\n",
              "      <th>19999</th>\n",
              "      <td>4</td>\n",
              "    </tr>\n",
              "  </tbody>\n",
              "</table>\n",
              "<p>20000 rows × 1 columns</p>\n",
              "</div>\n",
              "    <div class=\"colab-df-buttons\">\n",
              "\n",
              "  <div class=\"colab-df-container\">\n",
              "    <button class=\"colab-df-convert\" onclick=\"convertToInteractive('df-6e6fb44c-3e93-4b82-9c19-53b446d32c67')\"\n",
              "            title=\"Convert this dataframe to an interactive table.\"\n",
              "            style=\"display:none;\">\n",
              "\n",
              "  <svg xmlns=\"http://www.w3.org/2000/svg\" height=\"24px\" viewBox=\"0 -960 960 960\">\n",
              "    <path d=\"M120-120v-720h720v720H120Zm60-500h600v-160H180v160Zm220 220h160v-160H400v160Zm0 220h160v-160H400v160ZM180-400h160v-160H180v160Zm440 0h160v-160H620v160ZM180-180h160v-160H180v160Zm440 0h160v-160H620v160Z\"/>\n",
              "  </svg>\n",
              "    </button>\n",
              "\n",
              "  <style>\n",
              "    .colab-df-container {\n",
              "      display:flex;\n",
              "      gap: 12px;\n",
              "    }\n",
              "\n",
              "    .colab-df-convert {\n",
              "      background-color: #E8F0FE;\n",
              "      border: none;\n",
              "      border-radius: 50%;\n",
              "      cursor: pointer;\n",
              "      display: none;\n",
              "      fill: #1967D2;\n",
              "      height: 32px;\n",
              "      padding: 0 0 0 0;\n",
              "      width: 32px;\n",
              "    }\n",
              "\n",
              "    .colab-df-convert:hover {\n",
              "      background-color: #E2EBFA;\n",
              "      box-shadow: 0px 1px 2px rgba(60, 64, 67, 0.3), 0px 1px 3px 1px rgba(60, 64, 67, 0.15);\n",
              "      fill: #174EA6;\n",
              "    }\n",
              "\n",
              "    .colab-df-buttons div {\n",
              "      margin-bottom: 4px;\n",
              "    }\n",
              "\n",
              "    [theme=dark] .colab-df-convert {\n",
              "      background-color: #3B4455;\n",
              "      fill: #D2E3FC;\n",
              "    }\n",
              "\n",
              "    [theme=dark] .colab-df-convert:hover {\n",
              "      background-color: #434B5C;\n",
              "      box-shadow: 0px 1px 3px 1px rgba(0, 0, 0, 0.15);\n",
              "      filter: drop-shadow(0px 1px 2px rgba(0, 0, 0, 0.3));\n",
              "      fill: #FFFFFF;\n",
              "    }\n",
              "  </style>\n",
              "\n",
              "    <script>\n",
              "      const buttonEl =\n",
              "        document.querySelector('#df-6e6fb44c-3e93-4b82-9c19-53b446d32c67 button.colab-df-convert');\n",
              "      buttonEl.style.display =\n",
              "        google.colab.kernel.accessAllowed ? 'block' : 'none';\n",
              "\n",
              "      async function convertToInteractive(key) {\n",
              "        const element = document.querySelector('#df-6e6fb44c-3e93-4b82-9c19-53b446d32c67');\n",
              "        const dataTable =\n",
              "          await google.colab.kernel.invokeFunction('convertToInteractive',\n",
              "                                                    [key], {});\n",
              "        if (!dataTable) return;\n",
              "\n",
              "        const docLinkHtml = 'Like what you see? Visit the ' +\n",
              "          '<a target=\"_blank\" href=https://colab.research.google.com/notebooks/data_table.ipynb>data table notebook</a>'\n",
              "          + ' to learn more about interactive tables.';\n",
              "        element.innerHTML = '';\n",
              "        dataTable['output_type'] = 'display_data';\n",
              "        await google.colab.output.renderOutput(dataTable, element);\n",
              "        const docLink = document.createElement('div');\n",
              "        docLink.innerHTML = docLinkHtml;\n",
              "        element.appendChild(docLink);\n",
              "      }\n",
              "    </script>\n",
              "  </div>\n",
              "\n",
              "\n",
              "<div id=\"df-20a831fa-7a73-4571-b2c0-e06e28f098fd\">\n",
              "  <button class=\"colab-df-quickchart\" onclick=\"quickchart('df-20a831fa-7a73-4571-b2c0-e06e28f098fd')\"\n",
              "            title=\"Suggest charts\"\n",
              "            style=\"display:none;\">\n",
              "\n",
              "<svg xmlns=\"http://www.w3.org/2000/svg\" height=\"24px\"viewBox=\"0 0 24 24\"\n",
              "     width=\"24px\">\n",
              "    <g>\n",
              "        <path d=\"M19 3H5c-1.1 0-2 .9-2 2v14c0 1.1.9 2 2 2h14c1.1 0 2-.9 2-2V5c0-1.1-.9-2-2-2zM9 17H7v-7h2v7zm4 0h-2V7h2v10zm4 0h-2v-4h2v4z\"/>\n",
              "    </g>\n",
              "</svg>\n",
              "  </button>\n",
              "\n",
              "<style>\n",
              "  .colab-df-quickchart {\n",
              "      --bg-color: #E8F0FE;\n",
              "      --fill-color: #1967D2;\n",
              "      --hover-bg-color: #E2EBFA;\n",
              "      --hover-fill-color: #174EA6;\n",
              "      --disabled-fill-color: #AAA;\n",
              "      --disabled-bg-color: #DDD;\n",
              "  }\n",
              "\n",
              "  [theme=dark] .colab-df-quickchart {\n",
              "      --bg-color: #3B4455;\n",
              "      --fill-color: #D2E3FC;\n",
              "      --hover-bg-color: #434B5C;\n",
              "      --hover-fill-color: #FFFFFF;\n",
              "      --disabled-bg-color: #3B4455;\n",
              "      --disabled-fill-color: #666;\n",
              "  }\n",
              "\n",
              "  .colab-df-quickchart {\n",
              "    background-color: var(--bg-color);\n",
              "    border: none;\n",
              "    border-radius: 50%;\n",
              "    cursor: pointer;\n",
              "    display: none;\n",
              "    fill: var(--fill-color);\n",
              "    height: 32px;\n",
              "    padding: 0;\n",
              "    width: 32px;\n",
              "  }\n",
              "\n",
              "  .colab-df-quickchart:hover {\n",
              "    background-color: var(--hover-bg-color);\n",
              "    box-shadow: 0 1px 2px rgba(60, 64, 67, 0.3), 0 1px 3px 1px rgba(60, 64, 67, 0.15);\n",
              "    fill: var(--button-hover-fill-color);\n",
              "  }\n",
              "\n",
              "  .colab-df-quickchart-complete:disabled,\n",
              "  .colab-df-quickchart-complete:disabled:hover {\n",
              "    background-color: var(--disabled-bg-color);\n",
              "    fill: var(--disabled-fill-color);\n",
              "    box-shadow: none;\n",
              "  }\n",
              "\n",
              "  .colab-df-spinner {\n",
              "    border: 2px solid var(--fill-color);\n",
              "    border-color: transparent;\n",
              "    border-bottom-color: var(--fill-color);\n",
              "    animation:\n",
              "      spin 1s steps(1) infinite;\n",
              "  }\n",
              "\n",
              "  @keyframes spin {\n",
              "    0% {\n",
              "      border-color: transparent;\n",
              "      border-bottom-color: var(--fill-color);\n",
              "      border-left-color: var(--fill-color);\n",
              "    }\n",
              "    20% {\n",
              "      border-color: transparent;\n",
              "      border-left-color: var(--fill-color);\n",
              "      border-top-color: var(--fill-color);\n",
              "    }\n",
              "    30% {\n",
              "      border-color: transparent;\n",
              "      border-left-color: var(--fill-color);\n",
              "      border-top-color: var(--fill-color);\n",
              "      border-right-color: var(--fill-color);\n",
              "    }\n",
              "    40% {\n",
              "      border-color: transparent;\n",
              "      border-right-color: var(--fill-color);\n",
              "      border-top-color: var(--fill-color);\n",
              "    }\n",
              "    60% {\n",
              "      border-color: transparent;\n",
              "      border-right-color: var(--fill-color);\n",
              "    }\n",
              "    80% {\n",
              "      border-color: transparent;\n",
              "      border-right-color: var(--fill-color);\n",
              "      border-bottom-color: var(--fill-color);\n",
              "    }\n",
              "    90% {\n",
              "      border-color: transparent;\n",
              "      border-bottom-color: var(--fill-color);\n",
              "    }\n",
              "  }\n",
              "</style>\n",
              "\n",
              "  <script>\n",
              "    async function quickchart(key) {\n",
              "      const quickchartButtonEl =\n",
              "        document.querySelector('#' + key + ' button');\n",
              "      quickchartButtonEl.disabled = true;  // To prevent multiple clicks.\n",
              "      quickchartButtonEl.classList.add('colab-df-spinner');\n",
              "      try {\n",
              "        const charts = await google.colab.kernel.invokeFunction(\n",
              "            'suggestCharts', [key], {});\n",
              "      } catch (error) {\n",
              "        console.error('Error during call to suggestCharts:', error);\n",
              "      }\n",
              "      quickchartButtonEl.classList.remove('colab-df-spinner');\n",
              "      quickchartButtonEl.classList.add('colab-df-quickchart-complete');\n",
              "    }\n",
              "    (() => {\n",
              "      let quickchartButtonEl =\n",
              "        document.querySelector('#df-20a831fa-7a73-4571-b2c0-e06e28f098fd button');\n",
              "      quickchartButtonEl.style.display =\n",
              "        google.colab.kernel.accessAllowed ? 'block' : 'none';\n",
              "    })();\n",
              "  </script>\n",
              "</div>\n",
              "    </div>\n",
              "  </div>\n"
            ]
          },
          "metadata": {},
          "execution_count": 30
        }
      ]
    },
    {
      "cell_type": "code",
      "source": [
        "preds_df.to_csv('q2_submission.csv', index=False)"
      ],
      "metadata": {
        "id": "wwo9rTKnBKc3"
      },
      "execution_count": 31,
      "outputs": []
    },
    {
      "cell_type": "code",
      "source": [],
      "metadata": {
        "id": "-ItzqByuBTau"
      },
      "execution_count": null,
      "outputs": []
    }
  ],
  "metadata": {
    "colab": {
      "provenance": [],
      "gpuType": "T4",
      "collapsed_sections": [
        "mKuKGwTL46P8",
        "KnGTKXGk590h"
      ]
    },
    "kernelspec": {
      "display_name": "Python 3",
      "name": "python3"
    },
    "language_info": {
      "name": "python"
    },
    "accelerator": "GPU"
  },
  "nbformat": 4,
  "nbformat_minor": 0
}